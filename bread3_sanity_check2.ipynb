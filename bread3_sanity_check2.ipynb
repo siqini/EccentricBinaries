{
 "cells": [
  {
   "cell_type": "code",
   "execution_count": 10,
   "metadata": {},
   "outputs": [
    {
     "name": "stdout",
     "output_type": "stream",
     "text": [
      "Start: 2019-06-27 10:22:35.283345\n",
      "duration: 4.0\n",
      "match: 0.4075061262532144\n"
     ]
    }
   ],
   "source": [
    "%matplotlib inline\n",
    "from pycbc.waveform import get_td_waveform\n",
    "from pycbc.waveform import get_fd_waveform\n",
    "from pycbc.filter import match, overlap\n",
    "import pylab\n",
    "import matplotlib.pyplot as plt\n",
    "import numpy as np\n",
    "from datetime import datetime\n",
    "import pycbc\n",
    "import pycbc.psd\n",
    "import h5py\n",
    "import sys\n",
    "\n",
    "start = datetime.now()\n",
    "print (\"Start: %s\" % start )\n",
    "\n",
    "f_ecc = h5py.File('./ebank.hdf','r')\n",
    "ecc_temp_mass1 = f_ecc['mass1'][:]\n",
    "ecc_temp_mass2 = f_ecc['mass2'][:]\n",
    "ecc_temp_eccentricity = f_ecc['eccentricity'][:]\n",
    "ecc_temp_lan = f_ecc['long_asc_nodes'][:]\n",
    "ecc_temp_inc = f_ecc['inclination'][:]\n",
    "\n",
    "t00, t01 = get_fd_waveform(approximant=\"TaylorF2\",\n",
    "                           mass1=1.59,\n",
    "                           mass2=1.59,\n",
    "                           f_lower=30,\n",
    "                           delta_f=1.0/4)\n",
    "\n",
    "#t10,t11 = get_fd_waveform(approximant = \"EccentricFD\", mass1=ecc_temp_mass1[0], mass2=ecc_temp_mass2[0],\n",
    "#                           eccentricity = ecc_temp_eccentricity[0], long_asc_nodes = ecc_temp_lan[0],\n",
    "#                           inclination = ecc_temp_inc[0], f_lower=30,delta_f=1.0/4)\n",
    "\n",
    "t10,t11 = get_fd_waveform(approximant = \"TaylorF2\", mass1=ecc_temp_mass1[0], mass2=ecc_temp_mass2[0], f_lower=30, delta_f=1.0/4)\n",
    "\n",
    "#df = 1.0/t00.duration\n",
    "flen = max(len(t00), len(t10))\n",
    "t10.resize(flen)\n",
    "t00.resize(flen)\n",
    "\n",
    "print (\"duration: %s\" % t10.duration)\n",
    "my_psd = pycbc.psd.read.from_txt(filename = \"H1L1-O1_C02_HARM_MEAN_PSD-1126051217-11203200.txt\",\n",
    "                                    length = flen,\n",
    "                                    delta_f = 1.0/4,\n",
    "                                    low_freq_cutoff = 30.,\n",
    "                                    is_asd_file = False)\n",
    "\n",
    "#calculate match\n",
    "m,i = match(t00,t10,psd=my_psd,low_frequency_cutoff=30.)\n",
    "print (\"match: %s\" % m)"
   ]
  },
  {
   "cell_type": "code",
   "execution_count": null,
   "metadata": {},
   "outputs": [],
   "source": []
  },
  {
   "cell_type": "code",
   "execution_count": null,
   "metadata": {},
   "outputs": [],
   "source": []
  },
  {
   "cell_type": "code",
   "execution_count": null,
   "metadata": {},
   "outputs": [],
   "source": []
  },
  {
   "cell_type": "code",
   "execution_count": null,
   "metadata": {},
   "outputs": [],
   "source": []
  },
  {
   "cell_type": "code",
   "execution_count": null,
   "metadata": {},
   "outputs": [],
   "source": []
  },
  {
   "cell_type": "code",
   "execution_count": null,
   "metadata": {},
   "outputs": [],
   "source": []
  },
  {
   "cell_type": "code",
   "execution_count": null,
   "metadata": {},
   "outputs": [],
   "source": []
  },
  {
   "cell_type": "code",
   "execution_count": null,
   "metadata": {},
   "outputs": [],
   "source": []
  },
  {
   "cell_type": "code",
   "execution_count": null,
   "metadata": {},
   "outputs": [],
   "source": []
  },
  {
   "cell_type": "code",
   "execution_count": null,
   "metadata": {},
   "outputs": [],
   "source": []
  }
 ],
 "metadata": {
  "kernelspec": {
   "display_name": "Python 2",
   "language": "python",
   "name": "python2"
  },
  "language_info": {
   "codemirror_mode": {
    "name": "ipython",
    "version": 2
   },
   "file_extension": ".py",
   "mimetype": "text/x-python",
   "name": "python",
   "nbconvert_exporter": "python",
   "pygments_lexer": "ipython2",
   "version": "2.7.16"
  }
 },
 "nbformat": 4,
 "nbformat_minor": 2
}
