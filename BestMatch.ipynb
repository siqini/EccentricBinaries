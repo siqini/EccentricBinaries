{
 "cells": [
  {
   "cell_type": "code",
   "execution_count": 13,
   "metadata": {},
   "outputs": [],
   "source": [
    "from pycbc.waveform import get_td_waveform\n",
    "import h5py\n",
    "from pycbc.filter.matchedfilter import match\n",
    "import pycbc\n",
    "import pycbc.psd\n",
    "import numpy as np"
   ]
  },
  {
   "cell_type": "code",
   "execution_count": 14,
   "metadata": {},
   "outputs": [],
   "source": [
    "# Generate a time-domain waveform\n",
    "hp, hc = get_td_waveform (approximant = 'SEOBNRv4',\n",
    "                         mass1 = 20,\n",
    "                         mass2 = 20,\n",
    "                         eccentricity = 0.,\n",
    "                         long_asc_nodes = 0.,\n",
    "                         inclination = 0.,\n",
    "                         f_lower = 30.,\n",
    "                         delta_t = 1.0/4096)\n",
    "\n",
    "def GetMatch (template0,template1, psd_file ='H1L1-O1_C02_HARM_MEAN_PSD-1126051217-11203200.txt', f_low=30):\n",
    "    #resize two templates\n",
    "    tlen = max(len(template0),len(template1))\n",
    "    template1.resize(tlen)\n",
    "    template0.resize(tlen)\n",
    "\n",
    "    #grab and use the psd file\n",
    "    my_psd = pycbc.psd.read.from_txt(filename = psd_file,\n",
    "                                    length = tlen,\n",
    "                                    delta_f = template0.delta_f,\n",
    "                                    low_freq_cutoff = f_low,\n",
    "                                    is_asd_file = False)\n",
    "\n",
    "    #calculate match\n",
    "    m,i = match(template0,template1,psd=my_psd,low_frequency_cutoff=f_low)\n",
    "    return m\n",
    "\n",
    "def SingleFF(comp_mass1, comp_mass2, waveform0, tp_apx, tp_m1, tp_m2, tp_ecc, tp_lan, tp_inc, radius, f_low=30):\n",
    "    waveform0_mchirp = pycbc.conversions.mchirp_from_mass1_mass2(comp_mass1, comp_mass2)\n",
    "    matches = []\n",
    "    for k in range(0, len(tp_m1)):\n",
    "        template_m1 = tp_m1[k]\n",
    "        template_m2 = tp_m2[k]\n",
    "        template_mchirp = pycbc.conversions.mchirp_from_mass1_mass2(template_m1, template_m2)\n",
    "        diff = abs(waveform0_mchirp - template_mchirp)\n",
    "        percentage_diff = diff/waveform0_mchirp\n",
    "        if (percentage_diff > radius):\n",
    "            matches.append(0.)\n",
    "        else: \n",
    "            sp, sc = get_td_waveform(approximant = 'EccentricTD',\n",
    "                                    mass1 = tp_m1[k],\n",
    "                                    mass2 = tp_m2[k],\n",
    "                                    eccentricity = tp_ecc[k],\n",
    "                                    long_asc_nodes = tp_lan[k],\n",
    "                                    inclination = tp_inc[k],\n",
    "                                    f_lower = f_low,\n",
    "                                    delta_t = waveform0.delta_t)\n",
    "            this_match = GetMatch(waveform0, sp)\n",
    "            matches.append(this_match)\n",
    "    matches = np.asarray(matches)\n",
    "    ff = np.amax(matches)\n",
    "    ff_index = int(np.argmax(matches))\n",
    "    best_match_m1 = tp_m1[ff_index]\n",
    "    best_match_m2 = tp_m2[ff_index]\n",
    "    return ff, best_match_m1, best_match_m2\n"
   ]
  },
  {
   "cell_type": "code",
   "execution_count": 16,
   "metadata": {},
   "outputs": [
    {
     "name": "stdout",
     "output_type": "stream",
     "text": [
      "353288\n",
      "49.99998137567024\n",
      "5.0000019363985295\n"
     ]
    }
   ],
   "source": [
    "# Grab the template bank info\n",
    "f_bank = h5py.File('bank0729_atlas1_new6.hdf', 'r')\n",
    "bank_mass1 = f_bank['mass1'][:]\n",
    "bank_mass2 = f_bank['mass2'][:]\n",
    "bank_ecc = f_bank['eccentricity'][:]\n",
    "bank_lan = f_bank['long_asc_nodes'][:]\n",
    "bank_inc = f_bank['inclination'][:]\n",
    "bank_apx = f_bank['approximant'][:]\n",
    "f_bank.close()\n",
    "\n",
    "print (len(bank_mass1))\n",
    "print (np.amax(bank_mass1))\n",
    "print (np.amin(bank_mass2))"
   ]
  },
  {
   "cell_type": "code",
   "execution_count": null,
   "metadata": {},
   "outputs": [],
   "source": [
    "ff, best_match_m1, best_match_m2 = SingleFF(comp_mass1 = 20.,\n",
    "                                                    comp_mass2 = 20.,\n",
    "                                                    waveform0 = hp,\n",
    "                                                    tp_apx = bank_apx, \n",
    "                                                    tp_m1 = bank_mass1,\n",
    "                                                    tp_m2 = bank_mass2,\n",
    "                                                    tp_ecc = bank_ecc,\n",
    "                                                    tp_lan = bank_lan,\n",
    "                                                    tp_inc = bank_inc,\n",
    "                                                    radius = 0.01,\n",
    "                                                    f_low = 30.)\n",
    "print ff\n",
    "print best_match_m1\n",
    "print best_match_m2"
   ]
  },
  {
   "cell_type": "code",
   "execution_count": null,
   "metadata": {},
   "outputs": [],
   "source": []
  },
  {
   "cell_type": "code",
   "execution_count": null,
   "metadata": {},
   "outputs": [],
   "source": []
  }
 ],
 "metadata": {
  "kernelspec": {
   "display_name": "Python 2",
   "language": "python",
   "name": "python2"
  },
  "language_info": {
   "codemirror_mode": {
    "name": "ipython",
    "version": 2
   },
   "file_extension": ".py",
   "mimetype": "text/x-python",
   "name": "python",
   "nbconvert_exporter": "python",
   "pygments_lexer": "ipython2",
   "version": "2.7.16"
  }
 },
 "nbformat": 4,
 "nbformat_minor": 2
}
