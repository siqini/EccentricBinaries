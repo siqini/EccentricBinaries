{
 "cells": [
  {
   "cell_type": "code",
   "execution_count": 1,
   "metadata": {},
   "outputs": [
    {
     "name": "stdout",
     "output_type": "stream",
     "text": [
      "\u001b[33mDEPRECATION: Python 2.7 will reach the end of its life on January 1st, 2020. Please upgrade your Python as Python 2.7 won't be maintained after that date. A future version of pip will drop support for Python 2.7.\u001b[0m\n",
      "Requirement already satisfied: pycbc in /anaconda3/envs/ipykernel_py2/lib/python2.7/site-packages (1.14.0)\n",
      "Requirement already satisfied: lalsuite in /anaconda3/envs/ipykernel_py2/lib/python2.7/site-packages (6.57)\n",
      "Requirement already satisfied: ligo-common in /anaconda3/envs/ipykernel_py2/lib/python2.7/site-packages (1.0.3)\n",
      "Requirement already satisfied: Mako>=1.0.1 in /anaconda3/envs/ipykernel_py2/lib/python2.7/site-packages (from pycbc) (1.0.12)\n",
      "Requirement already satisfied: cython in /anaconda3/envs/ipykernel_py2/lib/python2.7/site-packages (from pycbc) (0.29.10)\n",
      "Requirement already satisfied: decorator>=3.4.2 in /anaconda3/envs/ipykernel_py2/lib/python2.7/site-packages (from pycbc) (4.4.0)\n",
      "Requirement already satisfied: matplotlib>=1.5.1 in /anaconda3/envs/ipykernel_py2/lib/python2.7/site-packages (from pycbc) (2.2.4)\n",
      "Requirement already satisfied: pillow in /anaconda3/envs/ipykernel_py2/lib/python2.7/site-packages (from pycbc) (6.0.0)\n",
      "Requirement already satisfied: h5py>=2.5 in /anaconda3/envs/ipykernel_py2/lib/python2.7/site-packages (from pycbc) (2.9.0)\n",
      "Requirement already satisfied: jinja2 in /anaconda3/envs/ipykernel_py2/lib/python2.7/site-packages (from pycbc) (2.10.1)\n",
      "Requirement already satisfied: mpld3>=0.3 in /anaconda3/envs/ipykernel_py2/lib/python2.7/site-packages (from pycbc) (0.3)\n",
      "Requirement already satisfied: lscsoft-glue>=1.59.3 in /anaconda3/envs/ipykernel_py2/lib/python2.7/site-packages (from pycbc) (2.0.0)\n",
      "Requirement already satisfied: emcee==2.2.1 in /anaconda3/envs/ipykernel_py2/lib/python2.7/site-packages (from pycbc) (2.2.1)\n",
      "Requirement already satisfied: requests>=1.2.1 in /anaconda3/envs/ipykernel_py2/lib/python2.7/site-packages (from pycbc) (2.22.0)\n",
      "Requirement already satisfied: beautifulsoup4>=4.6.0 in /anaconda3/envs/ipykernel_py2/lib/python2.7/site-packages (from pycbc) (4.7.1)\n",
      "Requirement already satisfied: six>=1.10.0 in /anaconda3/envs/ipykernel_py2/lib/python2.7/site-packages (from pycbc) (1.12.0)\n",
      "Requirement already satisfied: ligo-segments in /anaconda3/envs/ipykernel_py2/lib/python2.7/site-packages (from pycbc) (1.2.0)\n",
      "Requirement already satisfied: numpy<1.15.3,>=1.13.0 in /anaconda3/envs/ipykernel_py2/lib/python2.7/site-packages (from pycbc) (1.15.2)\n",
      "Requirement already satisfied: astropy<3.0.0,>=2.0.3 in /anaconda3/envs/ipykernel_py2/lib/python2.7/site-packages (from pycbc) (2.0.14)\n",
      "Requirement already satisfied: weave>=0.16.0 in /anaconda3/envs/ipykernel_py2/lib/python2.7/site-packages (from pycbc) (0.17.0)\n",
      "Requirement already satisfied: scipy<1.3.0,>=0.16.0 in /anaconda3/envs/ipykernel_py2/lib/python2.7/site-packages (from pycbc) (1.2.2)\n",
      "Requirement already satisfied: python-dateutil in /anaconda3/envs/ipykernel_py2/lib/python2.7/site-packages (from lalsuite) (2.8.0)\n",
      "Requirement already satisfied: MarkupSafe>=0.9.2 in /anaconda3/envs/ipykernel_py2/lib/python2.7/site-packages (from Mako>=1.0.1->pycbc) (1.1.1)\n",
      "Requirement already satisfied: cycler>=0.10 in /anaconda3/envs/ipykernel_py2/lib/python2.7/site-packages (from matplotlib>=1.5.1->pycbc) (0.10.0)\n",
      "Requirement already satisfied: kiwisolver>=1.0.1 in /anaconda3/envs/ipykernel_py2/lib/python2.7/site-packages (from matplotlib>=1.5.1->pycbc) (1.1.0)\n",
      "Requirement already satisfied: pytz in /anaconda3/envs/ipykernel_py2/lib/python2.7/site-packages (from matplotlib>=1.5.1->pycbc) (2019.1)\n",
      "Requirement already satisfied: subprocess32 in /anaconda3/envs/ipykernel_py2/lib/python2.7/site-packages (from matplotlib>=1.5.1->pycbc) (3.5.4)\n",
      "Requirement already satisfied: backports.functools-lru-cache in /anaconda3/envs/ipykernel_py2/lib/python2.7/site-packages (from matplotlib>=1.5.1->pycbc) (1.5)\n",
      "Requirement already satisfied: pyparsing!=2.0.4,!=2.1.2,!=2.1.6,>=2.0.1 in /anaconda3/envs/ipykernel_py2/lib/python2.7/site-packages (from matplotlib>=1.5.1->pycbc) (2.4.0)\n",
      "Requirement already satisfied: pyOpenSSL in /anaconda3/envs/ipykernel_py2/lib/python2.7/site-packages (from lscsoft-glue>=1.59.3->pycbc) (19.0.0)\n",
      "Requirement already satisfied: certifi>=2017.4.17 in /anaconda3/envs/ipykernel_py2/lib/python2.7/site-packages (from requests>=1.2.1->pycbc) (2019.3.9)\n",
      "Requirement already satisfied: urllib3!=1.25.0,!=1.25.1,<1.26,>=1.21.1 in /anaconda3/envs/ipykernel_py2/lib/python2.7/site-packages (from requests>=1.2.1->pycbc) (1.25.3)\n",
      "Requirement already satisfied: idna<2.9,>=2.5 in /anaconda3/envs/ipykernel_py2/lib/python2.7/site-packages (from requests>=1.2.1->pycbc) (2.8)\n",
      "Requirement already satisfied: chardet<3.1.0,>=3.0.2 in /anaconda3/envs/ipykernel_py2/lib/python2.7/site-packages (from requests>=1.2.1->pycbc) (3.0.4)\n",
      "Requirement already satisfied: soupsieve>=1.2 in /anaconda3/envs/ipykernel_py2/lib/python2.7/site-packages (from beautifulsoup4>=4.6.0->pycbc) (1.9.1)\n",
      "Requirement already satisfied: pytest<3.7,>=2.8 in /anaconda3/envs/ipykernel_py2/lib/python2.7/site-packages (from astropy<3.0.0,>=2.0.3->pycbc) (3.6.4)\n",
      "Requirement already satisfied: setuptools in /anaconda3/envs/ipykernel_py2/lib/python2.7/site-packages (from kiwisolver>=1.0.1->matplotlib>=1.5.1->pycbc) (41.0.1)\n",
      "Requirement already satisfied: cryptography>=2.3 in /anaconda3/envs/ipykernel_py2/lib/python2.7/site-packages (from pyOpenSSL->lscsoft-glue>=1.59.3->pycbc) (2.7)\n",
      "Requirement already satisfied: attrs>=17.4.0 in /anaconda3/envs/ipykernel_py2/lib/python2.7/site-packages (from pytest<3.7,>=2.8->astropy<3.0.0,>=2.0.3->pycbc) (19.1.0)\n",
      "Requirement already satisfied: more-itertools>=4.0.0 in /anaconda3/envs/ipykernel_py2/lib/python2.7/site-packages (from pytest<3.7,>=2.8->astropy<3.0.0,>=2.0.3->pycbc) (5.0.0)\n",
      "Requirement already satisfied: funcsigs; python_version < \"3.0\" in /anaconda3/envs/ipykernel_py2/lib/python2.7/site-packages (from pytest<3.7,>=2.8->astropy<3.0.0,>=2.0.3->pycbc) (1.0.2)\n",
      "Requirement already satisfied: py>=1.5.0 in /anaconda3/envs/ipykernel_py2/lib/python2.7/site-packages (from pytest<3.7,>=2.8->astropy<3.0.0,>=2.0.3->pycbc) (1.8.0)\n",
      "Requirement already satisfied: atomicwrites>=1.0 in /anaconda3/envs/ipykernel_py2/lib/python2.7/site-packages (from pytest<3.7,>=2.8->astropy<3.0.0,>=2.0.3->pycbc) (1.3.0)\n",
      "Requirement already satisfied: pluggy<0.8,>=0.5 in /anaconda3/envs/ipykernel_py2/lib/python2.7/site-packages (from pytest<3.7,>=2.8->astropy<3.0.0,>=2.0.3->pycbc) (0.7.1)\n",
      "Requirement already satisfied: enum34; python_version < \"3\" in /anaconda3/envs/ipykernel_py2/lib/python2.7/site-packages (from cryptography>=2.3->pyOpenSSL->lscsoft-glue>=1.59.3->pycbc) (1.1.6)\n",
      "Requirement already satisfied: asn1crypto>=0.21.0 in /anaconda3/envs/ipykernel_py2/lib/python2.7/site-packages (from cryptography>=2.3->pyOpenSSL->lscsoft-glue>=1.59.3->pycbc) (0.24.0)\n",
      "Requirement already satisfied: ipaddress; python_version < \"3\" in /anaconda3/envs/ipykernel_py2/lib/python2.7/site-packages (from cryptography>=2.3->pyOpenSSL->lscsoft-glue>=1.59.3->pycbc) (1.0.22)\n",
      "Requirement already satisfied: cffi!=1.11.3,>=1.8 in /anaconda3/envs/ipykernel_py2/lib/python2.7/site-packages (from cryptography>=2.3->pyOpenSSL->lscsoft-glue>=1.59.3->pycbc) (1.12.3)\n",
      "Requirement already satisfied: pycparser in /anaconda3/envs/ipykernel_py2/lib/python2.7/site-packages (from cffi!=1.11.3,>=1.8->cryptography>=2.3->pyOpenSSL->lscsoft-glue>=1.59.3->pycbc) (2.19)\n"
     ]
    }
   ],
   "source": [
    "import sys\n",
    "!{sys.executable} -m pip install pycbc lalsuite ligo-common --no-cache-dir"
   ]
  },
  {
   "cell_type": "code",
   "execution_count": 2,
   "metadata": {},
   "outputs": [
    {
     "name": "stderr",
     "output_type": "stream",
     "text": [
      "PyCBC.libutils: pkg-config call failed, setting NO_PKGCONFIG=1\n"
     ]
    },
    {
     "name": "stdout",
     "output_type": "stream",
     "text": [
      "['IMRPhenomD_NRTidal', 'TaylorF2', 'TaylorEt', 'SEOBNRv3_opt', 'IMRPhenomA', 'IMRPhenomC', 'IMRPhenomB', 'EOBNRv2', 'NRSur7dq2', 'SEOBNRv2_ROM_DoubleSpin', 'SEOBNRv2_ROM_EffectiveSpin', 'SpinTaylorF2', 'IMRPhenomPv2_NRTidal', 'SpinTaylorF2_SWAPPER', 'IMRPhenomHM', 'SEOBNRv2_ROM_DoubleSpin_HI', 'EOBNRv2_ROM', 'SEOBNRv1_ROM_EffectiveSpin', 'SEOBNRv1_ROM_DoubleSpin', 'SEOBNRv4_opt', 'TaylorF2NL', 'PhenSpinTaylor', 'PhenSpinTaylorRD', 'NR_hdf5', 'TEOBResum_ROM', 'SEOBNRv4_ROM', 'SEOBNRv3_pert', 'EOBNRv2HM', 'SpinTaylorT4', 'TaylorT1', 'EOBNRv2HM_ROM', 'TaylorT3', 'TaylorT2', 'HGimri', 'TaylorT4', 'IMRPhenomD', 'IMRPhenomPv2', 'SEOBNRv4T', 'SEOBNRv2T', 'SEOBNRv1', 'SpinDominatedWf', 'SEOBNRv3', 'SEOBNRv2', 'SpinTaylorT1', 'SEOBNRv4', 'SpinTaylorT2', 'SEOBNRv4HM', 'EccentricTD', 'SEOBNRv2_opt', 'SEOBNRv3_opt_rk4']\n",
      "['IMRPhenomD_NRTidal', 'TaylorF2', 'TaylorF2Ecc', 'SEOBNRv2_ROM_EffectiveSpin', 'IMRPhenomA', 'IMRPhenomC', 'SEOBNRv1_ROM_EffectiveSpin', 'IMRPhenomD', 'SpinTaylorT2Fourier', 'IMRPhenomPv2_INTERP', 'SpinTaylorT4Fourier', 'TaylorF2NLTides', 'SEOBNRv1_ROM_EffectiveSpin_INTERP', 'IMRPhenomD_INTERP', 'SEOBNRv2_ROM_DoubleSpin', 'IMRPhenomP', 'SEOBNRv4_ROM_NRTidal', 'SpinTaylorF2', 'IMRPhenomPv2_NRTidal', 'SEOBNRv2_ROM_DoubleSpin_INTERP', 'SEOBNRv1_ROM_DoubleSpin_INTERP', 'EOBNRv2_ROM_INTERP', 'IMRPhenomHM', 'TaylorF2_INTERP', 'IMRPhenomD_NRTidal_INTERP', 'SEOBNRv2_ROM_DoubleSpin_HI', 'SpinTaylorF2_INTERP', 'TaylorF2NL_INTERP', 'EOBNRv2_ROM', 'SEOBNRv1_ROM_DoubleSpin', 'TaylorF2NL', 'EccentricFD', 'SpinTaylorF2_SWAPPER_INTERP', 'SEOBNRv4_ROM', 'IMRPhenomB', 'EOBNRv2HM_ROM', 'EOBNRv2HM_ROM_INTERP', 'TaylorF2RedSpinTidal', 'IMRPhenomPv2', 'SEOBNRv4_ROM_INTERP', 'TaylorF2RedSpin', 'Lackey_Tidal_2013_SEOBNRv2_ROM', 'IMRPhenomC_INTERP', 'SEOBNRv4', 'SEOBNRv2_ROM_EffectiveSpin_INTERP', 'IMRPhenomPv2_NRTidal_INTERP', 'NRSur4d2s', 'SEOBNRv2_ROM_DoubleSpin_HI_INTERP', 'SEOBNRv4T_surrogate', 'SpinTaylorF2_SWAPPER']\n"
     ]
    }
   ],
   "source": [
    "# What waveforms can I generate?\n",
    "from pycbc.waveform import td_approximants, fd_approximants\n",
    "\n",
    "# list td approximants available\n",
    "print (td_approximants())\n",
    "\n",
    "print (fd_approximants())"
   ]
  },
  {
   "cell_type": "code",
   "execution_count": 9,
   "metadata": {},
   "outputs": [
    {
     "data": {
      "image/png": "[encoded data removed]",
      "text/plain": [
       "<Figure size 432x288 with 1 Axes>"
      ]
     },
     "metadata": {
      "needs_background": "light"
     },
     "output_type": "display_data"
    }
   ],
   "source": [
    "# Plotting time domain waveforms\n",
    "%matplotlib inline\n",
    "import pylab\n",
    "from pycbc.waveform import get_td_waveform\n",
    "\n",
    "for apx in ['IMRPhenomD','SEOBNRv4']:\n",
    "    hp,hc = get_td_waveform(approximant=apx,mass1=10,mass2=10,spin1z=0.9,delta_t=1.0/4096,f_lower=40)\n",
    "    pylab.plot(hp.sample_times,hp,label=apx)\n",
    "\n",
    "pylab.ylabel('Strain')\n",
    "pylab.xlabel('Time(s)')\n",
    "pylab.legend()\n",
    "pylab.show()\n"
   ]
  },
  {
   "cell_type": "code",
   "execution_count": 10,
   "metadata": {},
   "outputs": [
    {
     "name": "stdout",
     "output_type": "stream",
     "text": [
      "Downloading http://maia.usno.navy.mil/ser7/finals2000A.all [Done]\n"
     ]
    },
    {
     "data": {
      "image/png": "[encoded data removed]",
      "text/plain": [
       "<Figure size 432x288 with 1 Axes>"
      ]
     },
     "metadata": {
      "needs_background": "light"
     },
     "output_type": "display_data"
    }
   ],
   "source": [
    "# Generating one waveform in multiple detectors\n",
    "import pylab\n",
    "from pycbc.waveform import get_td_waveform\n",
    "from pycbc.detector import Detector\n",
    "\n",
    "apx = 'SEOBNRv4'\n",
    "hp,hc = get_td_waveform(approximant=apx,mass1=10,mass2=10,spin1z=0.9,spin2z=0.4,inclination=1.23,coa_phase=2.45,delta_t=1.0/4096,f_lower=40)\n",
    "# inclination runs from 0 to pi, coa_phase runs from 0 to 2pi\n",
    "\n",
    "det_h1 = Detector('H1')\n",
    "det_l1 = Detector('L1')\n",
    "det_v1 = Detector('V1')\n",
    "\n",
    "# RA and polarization phase runs from 0 to 2pi, Dec runs from pi/2. to -pi/2.\n",
    "\n",
    "end_time=1192529720\n",
    "declination=0.65\n",
    "right_ascension=4.67\n",
    "polarization=2.34\n",
    "\n",
    "hp.start_time +=end_time\n",
    "hc.start_time +=end_time\n",
    "\n",
    "signal_h1 = det_h1.project_wave(hp,hc, right_ascension,declination,polarization)\n",
    "signal_l1 = det_l1.project_wave(hp,hc, right_ascension,declination,polarization)\n",
    "signal_v1 = det_v1.project_wave(hp,hc, right_ascension,declination,polarization)\n",
    "\n",
    "pylab.plot(signal_h1.sample_times,signal_h1,label='H1')\n",
    "pylab.plot(signal_l1.sample_times,signal_l1,label='L1')\n",
    "pylab.plot(signal_v1.sample_times,signal_v1,label='V1')\n",
    "\n",
    "pylab.ylabel('Strain')\n",
    "pylab.xlabel('Time (s)')\n",
    "pylab.legend()\n",
    "pylab.show()\n"
   ]
  },
  {
   "cell_type": "code",
   "execution_count": 13,
   "metadata": {},
   "outputs": [
    {
     "name": "stdout",
     "output_type": "stream",
     "text": [
      "Overlap is -0.0005224667458506885\n",
      "Match is 0.9898396915547032\n"
     ]
    }
   ],
   "source": [
    "# Calculating the match between waveforms\n",
    "from pycbc.waveform import get_td_waveform\n",
    "from pycbc.filter import match, overlap\n",
    "from pycbc.psd import aLIGOZeroDetHighPower\n",
    "\n",
    "f_low=30\n",
    "sample_rate=4096\n",
    "\n",
    "# Generate 2 waveforms to compare\n",
    "hp,hc = get_td_waveform(approximant=\"IMRPhenomD\",\n",
    "                       mass1=10,\n",
    "                       mass2=10,\n",
    "                       f_lower=f_low,\n",
    "                       delta_t=1.0/sample_rate)\n",
    "\n",
    "sp,sc = get_td_waveform(approximant=\"SEOBNRv4\",\n",
    "                       mass1=10,\n",
    "                       mass2=10,\n",
    "                       f_lower=f_low,\n",
    "                       delta_t=1.0/sample_rate)\n",
    "\n",
    "# Resize the waveforms to the same length\n",
    "tlen = max(len(sp),len(hp))\n",
    "sp.resize(tlen)\n",
    "hp.resize(tlen)\n",
    "\n",
    "# Generate the aLIGO ZDHP PSD (noise power spectrum)\n",
    "delta_f = 1.0 / sp.duration\n",
    "flen = tlen/2 +1\n",
    "psd = aLIGOZeroDetHighPower(flen,delta_f,f_low)\n",
    "\n",
    "m,i = match(hp,sp,psd=psd, low_frequency_cutoff=f_low)\n",
    "o = overlap(hp,sp,psd=psd,low_frequency_cutoff=f_low)\n",
    "\n",
    "print(\"Overlap is %s\" % o)\n",
    "print(\"Match is %s\" % m)\n"
   ]
  },
  {
   "cell_type": "code",
   "execution_count": 14,
   "metadata": {},
   "outputs": [
    {
     "name": "stdout",
     "output_type": "stream",
     "text": [
      "Overlaps are [-9.067683280142268e-05, -0.00010741905021617983, -0.00012231354405027234, -0.000136346041354386, -0.00014997609694742, -0.0001634935046848536, -0.00017703567213907668, -0.00019233006212010788, -0.00021114273621635418, -0.0002295544419076357, -0.0002478689720804179]\n",
      "Matches are [0.9893804831540857, 0.9918320682572949, 0.9908880979725467, 0.9889494703374708, 0.9869993118459759, 0.9888236259964953, 0.9879500868390354, 0.9881192628585649, 0.9873104426199503, 0.9877136186992084, 0.9891562704830901]\n"
     ]
    }
   ],
   "source": [
    "from pycbc.waveform import get_td_waveform\n",
    "from pycbc.filter import match, overlap\n",
    "from pycbc.psd import aLIGOZeroDetHighPower\n",
    "\n",
    "f_low=20\n",
    "sample_rate=4096\n",
    "\n",
    "matches = []\n",
    "overlaps = []\n",
    "\n",
    "# Fix mass1=10\n",
    "mass1 = 10\n",
    "masses2 = range(10,31,2)\n",
    "\n",
    "for mass2 in masses2:\n",
    "    # Generate 2 waveforms to compare\n",
    "    hp,hc = get_td_waveform(approximant=\"IMRPhenomD\",\n",
    "                       mass1=mass1,\n",
    "                       mass2=mass2,\n",
    "                       f_lower=f_low,\n",
    "                       delta_t=1.0/sample_rate)\n",
    "\n",
    "    sp,sc = get_td_waveform(approximant=\"SEOBNRv4\",\n",
    "                       mass1=mass1,\n",
    "                       mass2=mass2,\n",
    "                       f_lower=f_low,\n",
    "                       delta_t=1.0/sample_rate)\n",
    "    tlen = max(len(hp),len(sp))\n",
    "    hp.resize(tlen)\n",
    "    sp.resize(tlen)\n",
    "    \n",
    "    # Generate psd\n",
    "    delta_f = 1.0/sp.duration\n",
    "    flen = tlen/2 +1\n",
    "    psd = aLIGOZeroDetHighPower(flen,delta_f,f_low)\n",
    "    \n",
    "    m,i = match(hp,sp,psd=psd,low_frequency_cutoff=f_low)\n",
    "    o = overlap(hp,sp,psd=psd,low_frequency_cutoff=f_low)\n",
    "    \n",
    "    matches.append(m)\n",
    "    overlaps.append(o)\n",
    "    \n",
    "print (\"Overlaps are %s\" % overlaps )\n",
    "print (\"Matches are %s\" % matches)\n",
    "\n",
    "\n"
   ]
  },
  {
   "cell_type": "code",
   "execution_count": 1,
   "metadata": {},
   "outputs": [
    {
     "name": "stderr",
     "output_type": "stream",
     "text": [
      "PyCBC.libutils: pkg-config call failed, setting NO_PKGCONFIG=1\n"
     ]
    },
    {
     "name": "stdout",
     "output_type": "stream",
     "text": [
      "Matches are [[0.98938048 0.99183207 0.9908881  0.98894947 0.98699931 0.98882363\n",
      "  0.98795009 0.98811926 0.98731044 0.98771362 0.98915627]\n",
      " [0.99183207 0.99023172 0.99081263 0.9910305  0.98813577 0.98993139\n",
      "  0.98750491 0.98869068 0.98829728 0.98845868 0.98961221]\n",
      " [0.9908881  0.99081263 0.99208432 0.9922154  0.99158776 0.9910158\n",
      "  0.99006836 0.99041408 0.99016121 0.989136   0.98952072]\n",
      " [0.98894947 0.9910305  0.9922154  0.99136724 0.9919268  0.99242403\n",
      "  0.99107984 0.99154421 0.99077726 0.9901754  0.99068354]\n",
      " [0.98699931 0.98813577 0.99158776 0.9919268  0.99246996 0.9907132\n",
      "  0.99236805 0.9907993  0.99176764 0.99030742 0.99048809]\n",
      " [0.98882363 0.98993139 0.9910158  0.99242403 0.9907132  0.99282251\n",
      "  0.99258689 0.99244417 0.99164842 0.99241449 0.99192516]\n",
      " [0.98795009 0.98750491 0.99006836 0.99107984 0.99236805 0.99258689\n",
      "  0.99335026 0.99188216 0.9931857  0.9923677  0.99157751]\n",
      " [0.98811926 0.98869068 0.99041408 0.99154421 0.9907993  0.99244417\n",
      "  0.99188216 0.99314852 0.99286182 0.99306678 0.99322041]\n",
      " [0.98731044 0.98829728 0.99016121 0.99077726 0.99176764 0.99164842\n",
      "  0.9931857  0.99286182 0.99364463 0.99350799 0.99296702]\n",
      " [0.98771362 0.98845868 0.989136   0.9901754  0.99030742 0.99241449\n",
      "  0.9923677  0.99306678 0.99350799 0.99342313 0.99351311]\n",
      " [0.98915627 0.98961221 0.98952072 0.99068354 0.99048809 0.99192516\n",
      "  0.99157751 0.99322041 0.99296702 0.99351311 0.99328675]]\n"
     ]
    },
    {
     "data": {
      "image/png": "[encoded data removed]",
      "text/plain": [
       "<Figure size 432x288 with 2 Axes>"
      ]
     },
     "metadata": {
      "needs_background": "light"
     },
     "output_type": "display_data"
    }
   ],
   "source": [
    "# make it 2d\n",
    "%matplotlib inline\n",
    "from pycbc.waveform import get_td_waveform\n",
    "from pycbc.filter import match, overlap\n",
    "from pycbc.psd import aLIGOZeroDetHighPower\n",
    "import pylab\n",
    "import matplotlib.pyplot as plt\n",
    "import numpy as np\n",
    "\n",
    "f_low=20\n",
    "sample_rate=4096\n",
    "masses1 = range(10,31,2)\n",
    "masses2 = range(10,31,2)\n",
    "matches = np.empty([len(masses1),len(masses2)])\n",
    "overlaps = np.empty([len(masses1),len(masses2)])\n",
    "\n",
    "for mass1 in masses1:\n",
    "    for mass2 in masses2:\n",
    "        # Generate 2 waveforms to compare\n",
    "        hp,hc = get_td_waveform(approximant=\"IMRPhenomD\",\n",
    "                       mass1=mass1,\n",
    "                       mass2=mass2,\n",
    "                       f_lower=f_low,\n",
    "                       delta_t=1.0/sample_rate)\n",
    "\n",
    "        sp,sc = get_td_waveform(approximant=\"SEOBNRv4\",\n",
    "                       mass1=mass1,\n",
    "                       mass2=mass2,\n",
    "                       f_lower=f_low,\n",
    "                       delta_t=1.0/sample_rate)\n",
    "        tlen = max(len(hp),len(sp))\n",
    "        hp.resize(tlen)\n",
    "        sp.resize(tlen)\n",
    "    \n",
    "        # Generate psd\n",
    "        delta_f = 1.0/sp.duration\n",
    "        flen = tlen/2 +1\n",
    "        psd = aLIGOZeroDetHighPower(flen,delta_f,f_low)\n",
    "    \n",
    "        m,i = match(hp,sp,psd=psd,low_frequency_cutoff=f_low)\n",
    "        o = overlap(hp,sp,psd=psd,low_frequency_cutoff=f_low)\n",
    "    \n",
    "        matches[masses1.index(mass1)][masses2.index(mass2)] = m\n",
    "        overlaps[masses1.index(mass1)][masses2.index(mass2)] = o\n",
    "    \n",
    "#print (\"Overlaps are %s\" % overlaps )\n",
    "print (\"Matches are %s\" % matches)\n",
    "\n",
    "plt.figure()\n",
    "cp = plt.contourf(masses1,masses2,matches)\n",
    "plt.colorbar(cp)\n",
    "plt.xlabel('masses 1')\n",
    "plt.ylabel('masses 2')\n",
    "plt.show()\n",
    "\n",
    "\n"
   ]
  },
  {
   "cell_type": "code",
   "execution_count": null,
   "metadata": {},
   "outputs": [],
   "source": []
  },
  {
   "cell_type": "code",
   "execution_count": 26,
   "metadata": {},
   "outputs": [
    {
     "name": "stdout",
     "output_type": "stream",
     "text": [
      "[ 0.  1.  2.  3.  4.  5.  6.  7.  8.  9. 10.]\n",
      "[10. 11. 12. 13. 14. 15. 16. 17. 18. 19. 20.]\n",
      "v1 is [[ 0.  1.  2.  3.  4.  5.  6.  7.  8.  9. 10.]\n",
      " [ 0.  1.  2.  3.  4.  5.  6.  7.  8.  9. 10.]\n",
      " [ 0.  1.  2.  3.  4.  5.  6.  7.  8.  9. 10.]\n",
      " [ 0.  1.  2.  3.  4.  5.  6.  7.  8.  9. 10.]\n",
      " [ 0.  1.  2.  3.  4.  5.  6.  7.  8.  9. 10.]\n",
      " [ 0.  1.  2.  3.  4.  5.  6.  7.  8.  9. 10.]\n",
      " [ 0.  1.  2.  3.  4.  5.  6.  7.  8.  9. 10.]\n",
      " [ 0.  1.  2.  3.  4.  5.  6.  7.  8.  9. 10.]\n",
      " [ 0.  1.  2.  3.  4.  5.  6.  7.  8.  9. 10.]\n",
      " [ 0.  1.  2.  3.  4.  5.  6.  7.  8.  9. 10.]\n",
      " [ 0.  1.  2.  3.  4.  5.  6.  7.  8.  9. 10.]]\n",
      "v2 is [[10. 10. 10. 10. 10. 10. 10. 10. 10. 10. 10.]\n",
      " [11. 11. 11. 11. 11. 11. 11. 11. 11. 11. 11.]\n",
      " [12. 12. 12. 12. 12. 12. 12. 12. 12. 12. 12.]\n",
      " [13. 13. 13. 13. 13. 13. 13. 13. 13. 13. 13.]\n",
      " [14. 14. 14. 14. 14. 14. 14. 14. 14. 14. 14.]\n",
      " [15. 15. 15. 15. 15. 15. 15. 15. 15. 15. 15.]\n",
      " [16. 16. 16. 16. 16. 16. 16. 16. 16. 16. 16.]\n",
      " [17. 17. 17. 17. 17. 17. 17. 17. 17. 17. 17.]\n",
      " [18. 18. 18. 18. 18. 18. 18. 18. 18. 18. 18.]\n",
      " [19. 19. 19. 19. 19. 19. 19. 19. 19. 19. 19.]\n",
      " [20. 20. 20. 20. 20. 20. 20. 20. 20. 20. 20.]]\n"
     ]
    }
   ],
   "source": [
    "# play around with np.meshgrid\n",
    "import numpy as np\n",
    "import matplotlib.pyplot as plt\n",
    "masses2=masses1= np.linspace(10., 30., num=30)\n",
    "xv,yv=np.meshgrid(masses1,masses2)\n",
    "a1=np.linspace(0.,10.,11)\n",
    "a2=np.linspace(10.,20.,11)\n",
    "v1,v2=np.meshgrid(a1,a2)\n",
    "print (a1)\n",
    "print (a2)\n",
    "print (\"v1 is %s\" % v1)\n",
    "print (\"v2 is %s\" % v2)"
   ]
  },
  {
   "cell_type": "code",
   "execution_count": null,
   "metadata": {},
   "outputs": [],
   "source": [
    "%matplotlib inline\n",
    "from pycbc.waveform import get_td_waveform\n",
    "from pycbc.filter import match, overlap\n",
    "from pycbc.psd import aLIGOZeroDetHighPower\n",
    "import pylab\n",
    "import matplotlib.pyplot as plt\n",
    "import numpy as np\n",
    "\n",
    "# Function GenTemplate: apx string, mass1 float, mass 2 float, f_low float, sample_rate int; \n",
    "# returns a 1D array of two polarized waves from the chosen template.\n",
    "\n",
    "# Make a 30*30 grid of IMRPhenomD waveforms\n",
    "def GenTemplate (mass1, mass2, apx=\"IMRPhenomD\", f_low=20, sample_rate=4096):\n",
    "    polarized_waves = np.empty(2, object)\n",
    "    hp,hc = get_td_waveform(approximant=apx,\n",
    "                           mass1=mass1,\n",
    "                           mass2=mass2,\n",
    "                           f_lower=f_low,\n",
    "                           delta_t=1.0/sample_rate)\n",
    "    polarized_waves[0]=hp\n",
    "    polarized_waves[1]=hc\n",
    "    return polarized_waves\n",
    "\n",
    "masses2=masses1= np.linspace(10., 30., num=30)\n",
    "#templates_c0=templates_p0=np.empty([len(masses1),len(masses2)], object)\n",
    "#for i in range(0,len(masses1)):\n",
    "#    for j in range(0,len(masses2)):\n",
    "#        templates_p0[i][j]=GenTemplate(masses1[i],masses2[j])[0]\n",
    "#        templates_c0[i][j]=GenTemplate(masses1[i],masses2[j])[1]\n",
    "\n",
    "# Do the same for SEOBNRv4\n",
    "#templates_c1=templates_p1=np.empty([len(masses1),len(masses2)],object)\n",
    "#for i in range(0,len(masses1)):\n",
    "#    for j in range(0,len(masses2)):\n",
    "#        templates_p1[i][j]=GenTemplate(approximant=\"SEOBNRv4\",mass1=masses1[i],mass2=masses2[j])[0]\n",
    "#        templates_c1[i][j]=GenTemplate(approximant=\"SEOBNRv4\",mass1=masses1[i],mass2=masses2[j])[1]\n",
    "\n",
    "# Draw one template using SEOBNRv4\n",
    "#fixed_mass1 = 15\n",
    "#fixed_mass2 = 20\n",
    "#p1 = GenTemplate(fixed_mass1,fixed_mass2,apx=\"SEOBNRv4\")[0]\n",
    "#c1 = GenTemplate(fixed_mass1,fixed_mass2,apx=\"SEOBNRv4\")[1]\n",
    "\n",
    "# Calculate matches (should get 30*30=900 values)\n",
    "\n",
    "def GetMatch (template0,template1=p1,f_low=20):\n",
    "    #resize two templates\n",
    "    tlen = max(len(template0),len(template1))\n",
    "    template1.resize(tlen)\n",
    "    template0.resize(tlen)\n",
    "    \n",
    "    #generate psd\n",
    "    delta_f = 1.0/template1.duration\n",
    "    flen = tlen/2 +1\n",
    "    psd = aLIGOZeroDetHighPower(flen,delta_f,f_low)\n",
    "    \n",
    "    #calculate match\n",
    "    m,i = match(template0,template1,psd=psd,low_frequency_cutoff=f_low)\n",
    "    return m\n",
    "\n",
    "#matches = np.empty([len(masses1),len(masses2)])\n",
    "#for i in range(0,len(masses1)):\n",
    "#    for j in range(0,len(masses2)):\n",
    "#        matches[i][j]=GetMatch(templates_p0[i][j])\n",
    "\n",
    "#print (matches)\n",
    "\n",
    "# Grab the best matched mass1&mass2\n",
    "#max1 = np.argmax(matches[0])\n",
    "#print (max1)\n",
    "\n",
    "max_indices=np.empty(len(masses1))\n",
    "max_values=np.empty(len(masses1))\n",
    "for i in range(0,len(masses1)):\n",
    "    max_indices[i]=np.argmax(matches[i])\n",
    "    max_values[i]=np.amax(matches[i])\n",
    "\n",
    "\n",
    "#print (max_indices)\n",
    "#print (max_values)\n",
    "#global_max = np.amax(max_values)\n",
    "#global_max_i = np.argmax(max_values)\n",
    "#global_max_j = int(max_indices[global_max_i])\n",
    "#global_max_mass1 = masses1[global_max_i]\n",
    "#global_max_mass2 = masses2[global_max_j]\n",
    "\n",
    "\n",
    "#print (\"global max match is %s\" % global_max)\n",
    "#print (\"global max mass 1 is %s\" % global_max_mass1)\n",
    "#print (\"global max mass 2 is %s\" % global_max_mass2)\n",
    "\n",
    "#fix a bank (templates0=templates_p0)\n",
    "#iterate through random templates 1\n",
    "#find global matches for each template 1\n",
    "\n",
    "def GetGlobalMatch(mass_min, mass_max, template1, f_low=20):\n",
    "    local_matches = np.empty([30,30])\n",
    "    for i in range(0,30):\n",
    "        for j in range(0,30):\n",
    "            tp0=GenTemplate(masses1[i],masses2[j])[0]\n",
    "            local_match = GetMatch(tp0,template1)\n",
    "            local_matches[i][j] = local_match\n",
    "    global_match = np.amax(local_matches)\n",
    "    return global_match\n",
    "\n",
    "rnd_mass_combos = np.random.uniform(low=10.,high=30.,size=(50,2))\n",
    "glb_matches=np.empty(50)\n",
    "for i in range(0,50):\n",
    "    tp1=GenTemplate(rnd_mass_combos[i][0],rnd_mass_combos[i][1],apx=\"SEOBNRv4\")[0]\n",
    "    glb_match = GetGlobalMatch(mass_min=10.,mass_max=30.,template1=tp1)\n",
    "    glb_matches[i]=glb_match\n",
    "\n",
    "print(glb_matches)\n",
    "    \n",
    "\n",
    "        \n",
    "    "
   ]
  },
  {
   "cell_type": "code",
   "execution_count": null,
   "metadata": {},
   "outputs": [],
   "source": []
  },
  {
   "cell_type": "code",
   "execution_count": null,
   "metadata": {},
   "outputs": [],
   "source": []
  },
  {
   "cell_type": "code",
   "execution_count": null,
   "metadata": {},
   "outputs": [],
   "source": []
  },
  {
   "cell_type": "code",
   "execution_count": null,
   "metadata": {},
   "outputs": [],
   "source": []
  },
  {
   "cell_type": "code",
   "execution_count": null,
   "metadata": {},
   "outputs": [],
   "source": []
  },
  {
   "cell_type": "code",
   "execution_count": null,
   "metadata": {},
   "outputs": [],
   "source": []
  },
  {
   "cell_type": "code",
   "execution_count": null,
   "metadata": {},
   "outputs": [],
   "source": []
  },
  {
   "cell_type": "code",
   "execution_count": null,
   "metadata": {},
   "outputs": [],
   "source": []
  },
  {
   "cell_type": "code",
   "execution_count": null,
   "metadata": {},
   "outputs": [],
   "source": []
  },
  {
   "cell_type": "code",
   "execution_count": null,
   "metadata": {},
   "outputs": [],
   "source": []
  },
  {
   "cell_type": "code",
   "execution_count": null,
   "metadata": {},
   "outputs": [],
   "source": []
  },
  {
   "cell_type": "code",
   "execution_count": null,
   "metadata": {},
   "outputs": [],
   "source": []
  },
  {
   "cell_type": "code",
   "execution_count": 60,
   "metadata": {},
   "outputs": [
    {
     "name": "stdout",
     "output_type": "stream",
     "text": [
      "1\n",
      "[[17.85047597 24.19737881]\n",
      " [10.87928874 13.75402178]\n",
      " [11.17648758 14.47924703]]\n",
      "[[6.93435130e-310 6.93435130e-310]\n",
      " [2.32846810e-314 2.78136813e-309]]\n",
      "14.4996083817\n",
      "17.6146433516\n"
     ]
    }
   ],
   "source": [
    "import numpy as np\n",
    "a = np.array([6,9,5])\n",
    "print (np.argmax(a))\n",
    "fixed_mass_combos = np.random.uniform(low=10.,high=30.,size=(3,2))\n",
    "print (fixed_mass_combos)\n",
    "b = np.empty([2,2])\n",
    "print b\n",
    "print np.random.uniform(low=10.,high=30.)\n",
    "print np.random.uniform(low=10.,high=30.)"
   ]
  },
  {
   "cell_type": "code",
   "execution_count": null,
   "metadata": {},
   "outputs": [],
   "source": []
  },
  {
   "cell_type": "code",
   "execution_count": null,
   "metadata": {},
   "outputs": [],
   "source": []
  },
  {
   "cell_type": "code",
   "execution_count": null,
   "metadata": {},
   "outputs": [],
   "source": []
  },
  {
   "cell_type": "code",
   "execution_count": null,
   "metadata": {},
   "outputs": [],
   "source": []
  },
  {
   "cell_type": "code",
   "execution_count": null,
   "metadata": {},
   "outputs": [],
   "source": []
  },
  {
   "cell_type": "code",
   "execution_count": null,
   "metadata": {},
   "outputs": [],
   "source": []
  },
  {
   "cell_type": "code",
   "execution_count": null,
   "metadata": {},
   "outputs": [],
   "source": []
  },
  {
   "cell_type": "code",
   "execution_count": null,
   "metadata": {},
   "outputs": [],
   "source": []
  },
  {
   "cell_type": "code",
   "execution_count": null,
   "metadata": {},
   "outputs": [],
   "source": []
  },
  {
   "cell_type": "code",
   "execution_count": null,
   "metadata": {},
   "outputs": [],
   "source": []
  },
  {
   "cell_type": "code",
   "execution_count": null,
   "metadata": {},
   "outputs": [],
   "source": []
  },
  {
   "cell_type": "code",
   "execution_count": null,
   "metadata": {},
   "outputs": [],
   "source": []
  },
  {
   "cell_type": "code",
   "execution_count": null,
   "metadata": {},
   "outputs": [],
   "source": []
  },
  {
   "cell_type": "code",
   "execution_count": null,
   "metadata": {},
   "outputs": [],
   "source": []
  },
  {
   "cell_type": "code",
   "execution_count": null,
   "metadata": {},
   "outputs": [],
   "source": []
  },
  {
   "cell_type": "code",
   "execution_count": null,
   "metadata": {},
   "outputs": [],
   "source": []
  },
  {
   "cell_type": "code",
   "execution_count": null,
   "metadata": {},
   "outputs": [],
   "source": []
  },
  {
   "cell_type": "code",
   "execution_count": null,
   "metadata": {},
   "outputs": [],
   "source": []
  },
  {
   "cell_type": "code",
   "execution_count": null,
   "metadata": {},
   "outputs": [],
   "source": []
  },
  {
   "cell_type": "code",
   "execution_count": null,
   "metadata": {},
   "outputs": [],
   "source": []
  },
  {
   "cell_type": "code",
   "execution_count": null,
   "metadata": {},
   "outputs": [],
   "source": []
  },
  {
   "cell_type": "code",
   "execution_count": null,
   "metadata": {},
   "outputs": [],
   "source": []
  },
  {
   "cell_type": "code",
   "execution_count": null,
   "metadata": {},
   "outputs": [],
   "source": []
  },
  {
   "cell_type": "code",
   "execution_count": null,
   "metadata": {},
   "outputs": [],
   "source": []
  },
  {
   "cell_type": "code",
   "execution_count": null,
   "metadata": {},
   "outputs": [],
   "source": []
  },
  {
   "cell_type": "code",
   "execution_count": null,
   "metadata": {},
   "outputs": [],
   "source": []
  },
  {
   "cell_type": "code",
   "execution_count": null,
   "metadata": {},
   "outputs": [],
   "source": []
  },
  {
   "cell_type": "code",
   "execution_count": null,
   "metadata": {},
   "outputs": [],
   "source": []
  },
  {
   "cell_type": "code",
   "execution_count": null,
   "metadata": {},
   "outputs": [],
   "source": []
  },
  {
   "cell_type": "code",
   "execution_count": null,
   "metadata": {},
   "outputs": [],
   "source": []
  },
  {
   "cell_type": "code",
   "execution_count": null,
   "metadata": {},
   "outputs": [],
   "source": []
  },
  {
   "cell_type": "code",
   "execution_count": null,
   "metadata": {},
   "outputs": [],
   "source": []
  },
  {
   "cell_type": "code",
   "execution_count": null,
   "metadata": {},
   "outputs": [],
   "source": []
  },
  {
   "cell_type": "code",
   "execution_count": null,
   "metadata": {},
   "outputs": [],
   "source": []
  },
  {
   "cell_type": "code",
   "execution_count": null,
   "metadata": {},
   "outputs": [],
   "source": []
  },
  {
   "cell_type": "code",
   "execution_count": null,
   "metadata": {},
   "outputs": [],
   "source": []
  },
  {
   "cell_type": "code",
   "execution_count": null,
   "metadata": {},
   "outputs": [],
   "source": []
  },
  {
   "cell_type": "code",
   "execution_count": null,
   "metadata": {},
   "outputs": [],
   "source": []
  },
  {
   "cell_type": "code",
   "execution_count": null,
   "metadata": {},
   "outputs": [],
   "source": []
  },
  {
   "cell_type": "code",
   "execution_count": null,
   "metadata": {},
   "outputs": [],
   "source": []
  },
  {
   "cell_type": "code",
   "execution_count": null,
   "metadata": {},
   "outputs": [],
   "source": []
  },
  {
   "cell_type": "code",
   "execution_count": null,
   "metadata": {},
   "outputs": [],
   "source": []
  },
  {
   "cell_type": "code",
   "execution_count": null,
   "metadata": {},
   "outputs": [],
   "source": []
  },
  {
   "cell_type": "code",
   "execution_count": null,
   "metadata": {},
   "outputs": [],
   "source": []
  },
  {
   "cell_type": "code",
   "execution_count": null,
   "metadata": {},
   "outputs": [],
   "source": []
  },
  {
   "cell_type": "code",
   "execution_count": null,
   "metadata": {},
   "outputs": [],
   "source": []
  },
  {
   "cell_type": "code",
   "execution_count": null,
   "metadata": {},
   "outputs": [],
   "source": []
  },
  {
   "cell_type": "code",
   "execution_count": null,
   "metadata": {},
   "outputs": [],
   "source": []
  },
  {
   "cell_type": "code",
   "execution_count": null,
   "metadata": {},
   "outputs": [],
   "source": []
  },
  {
   "cell_type": "code",
   "execution_count": null,
   "metadata": {},
   "outputs": [],
   "source": []
  },
  {
   "cell_type": "code",
   "execution_count": null,
   "metadata": {},
   "outputs": [],
   "source": []
  },
  {
   "cell_type": "code",
   "execution_count": null,
   "metadata": {},
   "outputs": [],
   "source": []
  },
  {
   "cell_type": "code",
   "execution_count": null,
   "metadata": {},
   "outputs": [],
   "source": []
  },
  {
   "cell_type": "code",
   "execution_count": null,
   "metadata": {},
   "outputs": [],
   "source": []
  },
  {
   "cell_type": "code",
   "execution_count": null,
   "metadata": {},
   "outputs": [],
   "source": []
  },
  {
   "cell_type": "code",
   "execution_count": null,
   "metadata": {},
   "outputs": [],
   "source": []
  },
  {
   "cell_type": "code",
   "execution_count": null,
   "metadata": {},
   "outputs": [],
   "source": []
  },
  {
   "cell_type": "code",
   "execution_count": null,
   "metadata": {},
   "outputs": [],
   "source": []
  },
  {
   "cell_type": "code",
   "execution_count": null,
   "metadata": {},
   "outputs": [],
   "source": []
  },
  {
   "cell_type": "code",
   "execution_count": null,
   "metadata": {},
   "outputs": [],
   "source": []
  },
  {
   "cell_type": "code",
   "execution_count": null,
   "metadata": {},
   "outputs": [],
   "source": []
  }
 ],
 "metadata": {
  "kernelspec": {
   "display_name": "Python 2",
   "language": "python",
   "name": "python2"
  },
  "language_info": {
   "codemirror_mode": {
    "name": "ipython",
    "version": 2
   },
   "file_extension": ".py",
   "mimetype": "text/x-python",
   "name": "python",
   "nbconvert_exporter": "python",
   "pygments_lexer": "ipython2",
   "version": "2.7.16"
  }
 },
 "nbformat": 4,
 "nbformat_minor": 2
}
