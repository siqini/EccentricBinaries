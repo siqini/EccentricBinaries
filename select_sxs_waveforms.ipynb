{
 "cells": [
  {
   "cell_type": "code",
   "execution_count": 1,
   "metadata": {},
   "outputs": [],
   "source": [
    "import requests\n",
    "import json\n",
    "import numpy as np\n",
    "from matplotlib import pyplot as plt"
   ]
  },
  {
   "cell_type": "code",
   "execution_count": 2,
   "metadata": {},
   "outputs": [
    {
     "name": "stdout",
     "output_type": "stream",
     "text": [
      "catalog_file_description\n",
      "modified\n",
      "records\n",
      "simulations\n"
     ]
    }
   ],
   "source": [
    "request = requests.get(\"https://data.black-holes.org/catalog.json\", headers={'accept': 'application/citeproc+json'})\n",
    "sxs_full_json = request.json()\n",
    "for key in sxs_full_json.keys():\n",
    "    print(key)"
   ]
  },
  {
   "cell_type": "code",
   "execution_count": 3,
   "metadata": {},
   "outputs": [],
   "source": [
    "sxs_catalog_json = sxs_full_json['simulations']"
   ]
  },
  {
   "cell_type": "code",
   "execution_count": 6,
   "metadata": {},
   "outputs": [
    {
     "name": "stdout",
     "output_type": "stream",
     "text": [
      "alternative_names\n",
      "authors_emails\n",
      "code_bibtex_keys\n",
      "com_parameters\n",
      "common_horizon_time\n",
      "initial_ADM_angular_momentum\n",
      "initial_ADM_energy\n",
      "initial_ADM_linear_momentum\n",
      "initial_adot\n",
      "initial_data_bibtex_keys\n",
      "initial_data_type\n",
      "initial_dimensionless_spin1\n",
      "initial_dimensionless_spin2\n",
      "initial_mass1\n",
      "initial_mass2\n",
      "initial_mass_ratio\n",
      "initial_orbital_frequency\n",
      "initial_position1\n",
      "initial_position2\n",
      "initial_separation\n",
      "keywords\n",
      "metadata_version\n",
      "number_of_orbits\n",
      "object1\n",
      "object2\n",
      "object_types\n",
      "point_of_contact_email\n",
      "quasicircular_bibtex_keys\n",
      "reference_chi1_perp\n",
      "reference_chi2_perp\n",
      "reference_chi_eff\n",
      "reference_dimensionless_spin1\n",
      "reference_dimensionless_spin2\n",
      "reference_eccentricity\n",
      "reference_mass1\n",
      "reference_mass2\n",
      "reference_mass_ratio\n",
      "reference_mean_anomaly\n",
      "reference_orbital_frequency\n",
      "reference_position1\n",
      "reference_position2\n",
      "reference_time\n",
      "relaxation_time\n",
      "remnant_dimensionless_spin\n",
      "remnant_mass\n",
      "remnant_velocity\n",
      "simulation_bibtex_keys\n",
      "simulation_name\n",
      "spec_revisions\n",
      "spells_revision\n",
      "url\n"
     ]
    }
   ],
   "source": [
    "for key in sorted(sxs_catalog_json['SXS:BBH:0444'].keys()):\n",
    "    print(key)"
   ]
  },
  {
   "cell_type": "code",
   "execution_count": 27,
   "metadata": {},
   "outputs": [
    {
     "name": "stdout",
     "output_type": "stream",
     "text": [
      "<class 'numpy.float64'>\n",
      "['SXS:BBH:1132' 'SXS:BBH:0170' 'SXS:BBH:0180' 'SXS:BBH:0171'\n",
      " 'SXS:BBH:0150' 'SXS:BBH:0153' 'SXS:BBH:0002' 'SXS:BBH:1140'\n",
      " 'SXS:BBH:1135' 'SXS:BBH:0152' 'SXS:BBH:0160' 'SXS:BBH:0148'\n",
      " 'SXS:BBH:1154' 'SXS:BBH:1122' 'SXS:BBH:1137' 'SXS:BBH:0090'\n",
      " 'SXS:BBH:1155' 'SXS:BBH:0161' 'SXS:BBH:1123' 'SXS:BBH:0158'\n",
      " 'SXS:BBH:0147' 'SXS:BBH:0091' 'SXS:BBH:0149' 'SXS:BBH:1359'\n",
      " 'SXS:BBH:0069' 'SXS:BBH:0068' 'SXS:BBH:0071' 'SXS:BBH:0067'\n",
      " 'SXS:BBH:0086' 'SXS:BBH:0087' 'SXS:BBH:0066' 'SXS:BBH:0001'\n",
      " 'SXS:BBH:0073' 'SXS:BBH:0072' 'SXS:BBH:0070' 'SXS:BBH:2102'\n",
      " 'SXS:BBH:2089' 'SXS:BBH:0164' 'SXS:BBH:0074' 'SXS:BBH:0212'\n",
      " 'SXS:BBH:1139' 'SXS:BBH:1138' 'SXS:BBH:2104' 'SXS:BBH:1362'\n",
      " 'SXS:BBH:1475' 'SXS:BBH:1356' 'SXS:BBH:0157' 'SXS:BBH:1153'\n",
      " 'SXS:BBH:1136' 'SXS:BBH:0178']\n",
      "[1.         1.         1.         1.         1.         1.\n",
      " 1.         1.         1.         1.         1.         1.\n",
      " 1.         1.00000001 0.99999999 0.99999999 1.00000001 0.99999999\n",
      " 1.00000001 1.00000001 0.99999999 0.99999999 1.00000001 1.00000001\n",
      " 0.99999999 0.99999999 0.99999999 0.99999999 0.99999999 0.99999999\n",
      " 0.99999999 0.99999999 0.99999999 0.99999999 0.99999999 0.99999999\n",
      " 1.00000001 1.00000001 0.99999999 0.99999998 1.00000002 1.00000002\n",
      " 1.00000002 1.00000002 0.99999998 1.00000002 1.00000003 1.00000003\n",
      " 1.00000003 1.00000003]\n"
     ]
    }
   ],
   "source": [
    "desired_mass_ratio = 1.000\n",
    "N = 50\n",
    "\n",
    "sxs_ids = np.array(sorted(list(sxs_catalog_json.keys())))\n",
    "mass_ratios_list = []\n",
    "for sxs_id in sxs_ids:\n",
    "    if sxs_id.split(\":\")[-2] == \"BBH\":\n",
    "        mass_ratios_list.append(sxs_catalog_json[sxs_id]['reference_mass_ratio'])\n",
    "mass_ratios = np.array(mass_ratios_list)\n",
    "print (type(mass_ratios[0]))\n",
    "\n",
    "mass_ratio_residual_sort = np.argsort(np.abs(mass_ratios - desired_mass_ratio))\n",
    "\n",
    "closest_N_simulations = sxs_ids[mass_ratio_residual_sort][:N]\n",
    "closest_N_massratios = mass_ratios[mass_ratio_residual_sort][:N]\n",
    "print(closest_N_simulations)\n",
    "print(closest_N_massratios)"
   ]
  },
  {
   "cell_type": "code",
   "execution_count": 29,
   "metadata": {},
   "outputs": [
    {
     "name": "stdout",
     "output_type": "stream",
     "text": [
      "['<7.7e-04' '<8.1e-05' '5.11e-05' '<9.9e-05' '0.0002714' '0.0008694'\n",
      " '0.0001746' '0.0021731' '0.0002957' '0.0004272' '0.0004442' '<3.5e-05'\n",
      " '5.68e-05' '0.0003727' '0.0004313' '0.0010254' '<4.9e-05' '0.0024936'\n",
      " '0.0006331' '0.0005376' '0.0289982' '0.0216389' '0.0001604' '0.2177783'\n",
      " '0.018382' '0.0019465' '<6.1e-05' '0.0002365' '0.0011708' '0.021466'\n",
      " '6.43e-05' '0.0002569' '0.001877' '0.0001462' '4.59e-05' '0.0001629'\n",
      " '0.0001182' '0.001451' '0.0267318' '0.0002318' '0.0021299' '0.0021299'\n",
      " '0.0002704' '<1.7e+00' '0.0006336' '0.1974746' '0.0001483' '0.00104'\n",
      " '0.1242563' '<1.8e-03']\n",
      "['SXS:BBH:0001' 'SXS:BBH:0044' 'SXS:BBH:0027' 'SXS:BBH:0017'\n",
      " 'SXS:BBH:0012' 'SXS:BBH:0050' 'SXS:BBH:0002' 'SXS:BBH:0004'\n",
      " 'SXS:BBH:0035' 'SXS:BBH:0003' 'SXS:BBH:0013' 'SXS:BBH:0031'\n",
      " 'SXS:BBH:0037' 'SXS:BBH:0034' 'SXS:BBH:0047' 'SXS:BBH:0023'\n",
      " 'SXS:BBH:0036' 'SXS:BBH:0007' 'SXS:BBH:0040' 'SXS:BBH:0028'\n",
      " 'SXS:BBH:0032' 'SXS:BBH:0043' 'SXS:BBH:0005' 'SXS:BBH:0009'\n",
      " 'SXS:BBH:0014' 'SXS:BBH:0010' 'SXS:BBH:0015' 'SXS:BBH:0011'\n",
      " 'SXS:BBH:0020' 'SXS:BBH:0019']\n",
      "[0.000e+00 0.000e+00 0.000e+00 0.000e+00 0.000e+00 0.000e+00 0.000e+00\n",
      " 0.000e+00 4.590e-05 5.110e-05 5.680e-05 6.430e-05 1.182e-04 1.462e-04\n",
      " 1.483e-04 1.604e-04 1.629e-04 1.746e-04 2.318e-04 2.365e-04 2.569e-04\n",
      " 2.704e-04 2.714e-04 2.957e-04 3.727e-04 4.272e-04 4.313e-04 4.442e-04\n",
      " 5.376e-04 6.331e-04]\n"
     ]
    }
   ],
   "source": [
    "# select simulations in the 50 ~symmetric waveforms with the lowest eccentricities\n",
    "desired_eccentricity = 0.0\n",
    "N_ecc = 30\n",
    "\n",
    "eccentricity_list = []\n",
    "for sxs_id in closest_N_simulations: \n",
    "    if sxs_id.split(\":\")[-2] == \"BBH\":\n",
    "        eccentricity_list.append(sxs_catalog_json[sxs_id]['reference_eccentricity'])\n",
    "eccentricities_str = np.array(eccentricity_list)\n",
    "print (eccentricities_str)\n",
    "\n",
    "# apparently, the eccentricity values are read from the json file as strings, not floats. So we need to convert as following: \n",
    "eccentricities = []\n",
    "for ecc in eccentricities_str: \n",
    "    if ecc.startswith('<'):\n",
    "        eccentricities.append(0.)\n",
    "    else:\n",
    "        eccentricities.append(float(ecc))\n",
    "eccentricities = np.asarray(eccentricities)\n",
    "eccentricity_residual_sort = np.argsort(np.abs(eccentricities - desired_eccentricity))\n",
    "\n",
    "closest_N_ecc_simulations = sxs_ids[eccentricity_residual_sort][:N_ecc]\n",
    "closest_N_eccs = eccentricities[eccentricity_residual_sort][:N_ecc]\n",
    "print (closest_N_ecc_simulations)\n",
    "print (closest_N_eccs)\n"
   ]
  },
  {
   "cell_type": "code",
   "execution_count": null,
   "metadata": {},
   "outputs": [],
   "source": []
  }
 ],
 "metadata": {
  "kernelspec": {
   "display_name": "Python 3",
   "language": "python",
   "name": "python3"
  },
  "language_info": {
   "codemirror_mode": {
    "name": "ipython",
    "version": 3
   },
   "file_extension": ".py",
   "mimetype": "text/x-python",
   "name": "python",
   "nbconvert_exporter": "python",
   "pygments_lexer": "ipython3",
   "version": "3.7.3"
  }
 },
 "nbformat": 4,
 "nbformat_minor": 2
}
