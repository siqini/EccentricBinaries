{
 "cells": [
  {
   "cell_type": "code",
   "execution_count": 20,
   "metadata": {},
   "outputs": [
    {
     "name": "stdout",
     "output_type": "stream",
     "text": [
      "Start: 2019-06-27 09:21:42.990984\n",
      "0.09055874171512719\n",
      "first one done\n",
      "0.094745216883765\n",
      "0.09044414027986174\n",
      "0.08883438413200309\n",
      "0.08600182149448764\n",
      "0.09501101928910369\n"
     ]
    },
    {
     "ename": "KeyboardInterrupt",
     "evalue": "",
     "output_type": "error",
     "traceback": [
      "\u001b[0;31m---------------------------------------------------------------------------\u001b[0m",
      "\u001b[0;31mKeyboardInterrupt\u001b[0m                         Traceback (most recent call last)",
      "\u001b[0;32m<ipython-input-20-731b0de729ed>\u001b[0m in \u001b[0;36m<module>\u001b[0;34m()\u001b[0m\n\u001b[1;32m     95\u001b[0m                                                    \u001b[0meccentricity\u001b[0m \u001b[0;34m=\u001b[0m \u001b[0mecc_temp_eccentricity\u001b[0m\u001b[0;34m[\u001b[0m\u001b[0mk\u001b[0m\u001b[0;34m]\u001b[0m\u001b[0;34m,\u001b[0m \u001b[0mlong_asc_nodes\u001b[0m \u001b[0;34m=\u001b[0m \u001b[0mecc_temp_lan\u001b[0m\u001b[0;34m[\u001b[0m\u001b[0mk\u001b[0m\u001b[0;34m]\u001b[0m\u001b[0;34m,\u001b[0m\u001b[0;34m\u001b[0m\u001b[0m\n\u001b[1;32m     96\u001b[0m                                                    inclination = ecc_temp_inc[k])\n\u001b[0;32m---> 97\u001b[0;31m         \u001b[0mone_local_match\u001b[0m\u001b[0;34m=\u001b[0m \u001b[0mGetMatch\u001b[0m\u001b[0;34m(\u001b[0m\u001b[0mtest_waveform\u001b[0m\u001b[0;34m,\u001b[0m \u001b[0mone_relevant_temp\u001b[0m\u001b[0;34m)\u001b[0m\u001b[0;34m\u001b[0m\u001b[0m\n\u001b[0m\u001b[1;32m     98\u001b[0m         \u001b[0mlocal_matches\u001b[0m\u001b[0;34m[\u001b[0m\u001b[0mk\u001b[0m\u001b[0;34m]\u001b[0m \u001b[0;34m=\u001b[0m \u001b[0mone_local_match\u001b[0m\u001b[0;34m\u001b[0m\u001b[0m\n\u001b[1;32m     99\u001b[0m         \u001b[0;32mprint\u001b[0m\u001b[0;34m(\u001b[0m\u001b[0mone_local_match\u001b[0m\u001b[0;34m)\u001b[0m\u001b[0;34m\u001b[0m\u001b[0m\n",
      "\u001b[0;32m<ipython-input-20-731b0de729ed>\u001b[0m in \u001b[0;36mGetMatch\u001b[0;34m(template0, template1, psd_file, f_low)\u001b[0m\n\u001b[1;32m     70\u001b[0m                                     \u001b[0mdelta_f\u001b[0m \u001b[0;34m=\u001b[0m \u001b[0mdf\u001b[0m\u001b[0;34m,\u001b[0m\u001b[0;34m\u001b[0m\u001b[0m\n\u001b[1;32m     71\u001b[0m                                     \u001b[0mlow_freq_cutoff\u001b[0m \u001b[0;34m=\u001b[0m \u001b[0mf_low\u001b[0m\u001b[0;34m,\u001b[0m\u001b[0;34m\u001b[0m\u001b[0m\n\u001b[0;32m---> 72\u001b[0;31m                                     is_asd_file = False)\n\u001b[0m\u001b[1;32m     73\u001b[0m \u001b[0;34m\u001b[0m\u001b[0m\n\u001b[1;32m     74\u001b[0m     \u001b[0;31m#calculate match\u001b[0m\u001b[0;34m\u001b[0m\u001b[0;34m\u001b[0m\u001b[0m\n",
      "\u001b[0;32m/anaconda3/envs/ipykernel_py2/lib/python2.7/site-packages/pycbc/psd/read.pyc\u001b[0m in \u001b[0;36mfrom_txt\u001b[0;34m(filename, length, delta_f, low_freq_cutoff, is_asd_file)\u001b[0m\n\u001b[1;32m    109\u001b[0m         \u001b[0;32mor\u001b[0m \u001b[0mamplitude\u001b[0m \u001b[0mdensities\u001b[0m\u001b[0;34m.\u001b[0m\u001b[0;34m\u001b[0m\u001b[0m\n\u001b[1;32m    110\u001b[0m     \"\"\"\n\u001b[0;32m--> 111\u001b[0;31m     \u001b[0mfile_data\u001b[0m \u001b[0;34m=\u001b[0m \u001b[0mnumpy\u001b[0m\u001b[0;34m.\u001b[0m\u001b[0mloadtxt\u001b[0m\u001b[0;34m(\u001b[0m\u001b[0mfilename\u001b[0m\u001b[0;34m)\u001b[0m\u001b[0;34m\u001b[0m\u001b[0m\n\u001b[0m\u001b[1;32m    112\u001b[0m     \u001b[0;32mif\u001b[0m \u001b[0;34m(\u001b[0m\u001b[0mfile_data\u001b[0m \u001b[0;34m<\u001b[0m \u001b[0;36m0\u001b[0m\u001b[0;34m)\u001b[0m\u001b[0;34m.\u001b[0m\u001b[0many\u001b[0m\u001b[0;34m(\u001b[0m\u001b[0;34m)\u001b[0m \u001b[0;32mor\u001b[0m\u001b[0;31m \u001b[0m\u001b[0;31m\\\u001b[0m\u001b[0;34m\u001b[0m\u001b[0m\n\u001b[1;32m    113\u001b[0m                             \u001b[0mnumpy\u001b[0m\u001b[0;34m.\u001b[0m\u001b[0mlogical_not\u001b[0m\u001b[0;34m(\u001b[0m\u001b[0mnumpy\u001b[0m\u001b[0;34m.\u001b[0m\u001b[0misfinite\u001b[0m\u001b[0;34m(\u001b[0m\u001b[0mfile_data\u001b[0m\u001b[0;34m)\u001b[0m\u001b[0;34m)\u001b[0m\u001b[0;34m.\u001b[0m\u001b[0many\u001b[0m\u001b[0;34m(\u001b[0m\u001b[0;34m)\u001b[0m\u001b[0;34m:\u001b[0m\u001b[0;34m\u001b[0m\u001b[0m\n",
      "\u001b[0;32m/anaconda3/envs/ipykernel_py2/lib/python2.7/site-packages/numpy/lib/npyio.pyc\u001b[0m in \u001b[0;36mloadtxt\u001b[0;34m(fname, dtype, comments, delimiter, converters, skiprows, usecols, unpack, ndmin, encoding)\u001b[0m\n\u001b[1;32m   1099\u001b[0m         \u001b[0;31m# converting the data\u001b[0m\u001b[0;34m\u001b[0m\u001b[0;34m\u001b[0m\u001b[0m\n\u001b[1;32m   1100\u001b[0m         \u001b[0mX\u001b[0m \u001b[0;34m=\u001b[0m \u001b[0mNone\u001b[0m\u001b[0;34m\u001b[0m\u001b[0m\n\u001b[0;32m-> 1101\u001b[0;31m         \u001b[0;32mfor\u001b[0m \u001b[0mx\u001b[0m \u001b[0;32min\u001b[0m \u001b[0mread_data\u001b[0m\u001b[0;34m(\u001b[0m\u001b[0m_loadtxt_chunksize\u001b[0m\u001b[0;34m)\u001b[0m\u001b[0;34m:\u001b[0m\u001b[0;34m\u001b[0m\u001b[0m\n\u001b[0m\u001b[1;32m   1102\u001b[0m             \u001b[0;32mif\u001b[0m \u001b[0mX\u001b[0m \u001b[0;32mis\u001b[0m \u001b[0mNone\u001b[0m\u001b[0;34m:\u001b[0m\u001b[0;34m\u001b[0m\u001b[0m\n\u001b[1;32m   1103\u001b[0m                 \u001b[0mX\u001b[0m \u001b[0;34m=\u001b[0m \u001b[0mnp\u001b[0m\u001b[0;34m.\u001b[0m\u001b[0marray\u001b[0m\u001b[0;34m(\u001b[0m\u001b[0mx\u001b[0m\u001b[0;34m,\u001b[0m \u001b[0mdtype\u001b[0m\u001b[0;34m)\u001b[0m\u001b[0;34m\u001b[0m\u001b[0m\n",
      "\u001b[0;32m/anaconda3/envs/ipykernel_py2/lib/python2.7/site-packages/numpy/lib/npyio.pyc\u001b[0m in \u001b[0;36mread_data\u001b[0;34m(chunk_size)\u001b[0m\n\u001b[1;32m   1026\u001b[0m \u001b[0;34m\u001b[0m\u001b[0m\n\u001b[1;32m   1027\u001b[0m             \u001b[0;31m# Convert each value according to its column and store\u001b[0m\u001b[0;34m\u001b[0m\u001b[0;34m\u001b[0m\u001b[0m\n\u001b[0;32m-> 1028\u001b[0;31m             \u001b[0mitems\u001b[0m \u001b[0;34m=\u001b[0m \u001b[0;34m[\u001b[0m\u001b[0mconv\u001b[0m\u001b[0;34m(\u001b[0m\u001b[0mval\u001b[0m\u001b[0;34m)\u001b[0m \u001b[0;32mfor\u001b[0m \u001b[0;34m(\u001b[0m\u001b[0mconv\u001b[0m\u001b[0;34m,\u001b[0m \u001b[0mval\u001b[0m\u001b[0;34m)\u001b[0m \u001b[0;32min\u001b[0m \u001b[0mzip\u001b[0m\u001b[0;34m(\u001b[0m\u001b[0mconverters\u001b[0m\u001b[0;34m,\u001b[0m \u001b[0mvals\u001b[0m\u001b[0;34m)\u001b[0m\u001b[0;34m]\u001b[0m\u001b[0;34m\u001b[0m\u001b[0m\n\u001b[0m\u001b[1;32m   1029\u001b[0m \u001b[0;34m\u001b[0m\u001b[0m\n\u001b[1;32m   1030\u001b[0m             \u001b[0;31m# Then pack it according to the dtype's nesting\u001b[0m\u001b[0;34m\u001b[0m\u001b[0;34m\u001b[0m\u001b[0m\n",
      "\u001b[0;31mKeyboardInterrupt\u001b[0m: "
     ]
    }
   ],
   "source": [
    "%matplotlib inline\n",
    "from pycbc.waveform import get_td_waveform\n",
    "from pycbc.waveform import get_fd_waveform\n",
    "from pycbc.filter import match, overlap\n",
    "import pylab\n",
    "import matplotlib.pyplot as plt\n",
    "import numpy as np\n",
    "from datetime import datetime\n",
    "import pycbc\n",
    "import pycbc.psd\n",
    "import h5py\n",
    "import sys\n",
    "from datetime import datetime\n",
    "\n",
    "start = datetime.now()\n",
    "print (\"Start: %s\" % start )\n",
    "\n",
    "def GenTemplate (mass1, mass2, apx, eccentricity = .0, long_asc_nodes = .0, inclination = .0, f_low=30., sample_rate=4096):\n",
    "    hptilde,hctilde = get_fd_waveform(approximant=apx,\n",
    "                           mass1=mass1,\n",
    "                           mass2=mass2,\n",
    "                           eccentricity = eccentricity,\n",
    "                           long_asc_nodes = long_asc_nodes,\n",
    "                           inclination = inclination,\n",
    "                           f_lower=f_low,\n",
    "                           delta_f=1.0/4)\n",
    "    \n",
    "    # FFT it to the time-domain\n",
    "    tlen = int(1.0 / (1.0/sample_rate) / hptilde.delta_f)\n",
    "    hptilde.resize(tlen/2 + 1)\n",
    "    hp = pycbc.types.TimeSeries(pycbc.types.zeros(tlen), delta_t=1.0/sample_rate)\n",
    "    pycbc.fft.ifft(hptilde, hp)\n",
    "    return hp\n",
    "\n",
    "test_waveform = GenTemplateTD(1.1, 1.1, apx = \"TaylorF2\")\n",
    "\n",
    "# Grab eccentric template bank\n",
    "f_ecc = h5py.File('./ebank.hdf','r')\n",
    "ecc_temp_mass1 = f_ecc['mass1'][:]\n",
    "ecc_temp_mass2 = f_ecc['mass2'][:]\n",
    "ecc_temp_eccentricity = f_ecc['eccentricity'][:]\n",
    "ecc_temp_lan = f_ecc['long_asc_nodes'][:]\n",
    "ecc_temp_inc = f_ecc['inclination'][:]\n",
    "\n",
    "ecc_temp_length = len(ecc_temp_mass1)\n",
    "\n",
    "#ecc_temp_apx = f_ecc['approximant'][:]\n",
    "ecc_temp_apx = np.empty(len(ecc_temp_mass1), object)\n",
    "for i_apx in range(0,len(ecc_temp_apx)):\n",
    "    ecc_temp_apx[i_apx] = 'EccentricFD'\n",
    "\n",
    "    \n",
    "\n",
    "\n",
    "\n",
    "\n",
    "#test_ecc_wf = GenTemplateTD(1.1,1.10002, apx = \"EccentricFD\")\n",
    "def GetMatch (template0,template1, psd_file = \"H1L1-O1_C02_HARM_MEAN_PSD-1126051217-11203200.txt\", f_low=30.):\n",
    "    #resize two templates\n",
    "    tlen = max(len(template0),len(template1))\n",
    "    template1.resize(tlen)\n",
    "    template0=template0.copy()\n",
    "    template0.resize(tlen)\n",
    "    \n",
    "    #grab and use the psd file\n",
    "    df = 1.0/template1.duration\n",
    "    flen = tlen/2 +1\n",
    "    my_psd = pycbc.psd.read.from_txt(filename = psd_file,\n",
    "                                    length = flen,\n",
    "                                    delta_f = df,\n",
    "                                    low_freq_cutoff = f_low,\n",
    "                                    is_asd_file = False)\n",
    "\n",
    "    #calculate match\n",
    "    m,i = match(template0,template1,psd=my_psd,low_frequency_cutoff=f_low)\n",
    "    return m\n",
    "\n",
    "    \n",
    "waveform0_m1 = 1.59\n",
    "waveform0_m2 = 1.59\n",
    "waveform0_mchirp = pycbc.conversions.mchirp_from_mass1_mass2(waveform0_m1, waveform0_m2) #compute mchirp of waveform0\n",
    "local_matches = np.zeros(len(ecc_temp_mass1)) \n",
    "#iterate through the given template bank\n",
    "for k in range(0,len(ecc_temp_mass1)):\n",
    "    this_tp_m1 = ecc_temp_mass1[k]\n",
    "    this_tp_m2 = ecc_temp_mass2[k]\n",
    "    this_tp_mchirp = pycbc.conversions.mchirp_from_mass1_mass2(this_tp_m1, this_tp_m2) #compute mchirp of one template\n",
    "    diff_mchirp = abs(waveform0_mchirp-this_tp_mchirp)\n",
    "    prozent_diff = diff_mchirp/waveform0_mchirp\n",
    "    if (prozent_diff > 0.01):\n",
    "        local_matches[k] = 0.\n",
    "    else:\n",
    "        # generate templates as needed\n",
    "        one_relevant_temp = GenTemplateTD(mass1 = this_tp_m1, mass2 = this_tp_m2, apx = 'EccentricFD', \n",
    "                                                   eccentricity = ecc_temp_eccentricity[k], long_asc_nodes = ecc_temp_lan[k],\n",
    "                                                   inclination = ecc_temp_inc[k])\n",
    "        one_local_match= GetMatch(test_waveform, one_relevant_temp)\n",
    "        local_matches[k] = one_local_match\n",
    "        print(one_local_match)\n",
    "    if k==0:\n",
    "        print (\"first one done\")\n",
    "    if k==100:\n",
    "        print (\"first 100 done\")\n",
    "    if k==200:\n",
    "        print (\"first 200 done\")\n",
    "    if k==500:\n",
    "        print (\"first 500 done\")\n",
    "    if k==1000:\n",
    "        print (\"first 1000 done\")\n",
    "    if k==2000:\n",
    "        print (\"first 2000 done\")\n",
    "    if k==5000:\n",
    "        print (\"first 5000 done\")\n",
    "    if k==8000:\n",
    "        print (\"first 8000 done\")\n",
    "    if k==10000:\n",
    "        print (\"first 10000 done\")\n",
    "    if k==100000:\n",
    "        print (\"first 100k done\")\n",
    "    if k==200000:\n",
    "        print (\"first 200k done\")\n",
    "    if k==300000:\n",
    "        print (\"first 300k done\")\n",
    "global_match = np.amax(local_matches)\n",
    "\n",
    "\n",
    "this_glb_match = GetGlobalMatch(test_waveform, ecc_temps[0])\n",
    "print (\"this_glb_match: %s\" % this_glb_match)\n",
    "end = datetime.now()\n",
    "print (\"End: %s\" % end)\n",
    "duration = end - start\n",
    "print (\"runtime: %s\" % duration)\n",
    "\n"
   ]
  },
  {
   "cell_type": "code",
   "execution_count": null,
   "metadata": {},
   "outputs": [],
   "source": []
  },
  {
   "cell_type": "code",
   "execution_count": null,
   "metadata": {},
   "outputs": [],
   "source": []
  },
  {
   "cell_type": "code",
   "execution_count": null,
   "metadata": {},
   "outputs": [],
   "source": []
  },
  {
   "cell_type": "code",
   "execution_count": null,
   "metadata": {},
   "outputs": [],
   "source": []
  },
  {
   "cell_type": "code",
   "execution_count": null,
   "metadata": {},
   "outputs": [],
   "source": []
  },
  {
   "cell_type": "code",
   "execution_count": null,
   "metadata": {},
   "outputs": [],
   "source": []
  },
  {
   "cell_type": "code",
   "execution_count": null,
   "metadata": {},
   "outputs": [],
   "source": []
  },
  {
   "cell_type": "code",
   "execution_count": null,
   "metadata": {},
   "outputs": [],
   "source": []
  },
  {
   "cell_type": "code",
   "execution_count": null,
   "metadata": {},
   "outputs": [],
   "source": []
  },
  {
   "cell_type": "code",
   "execution_count": null,
   "metadata": {},
   "outputs": [],
   "source": []
  },
  {
   "cell_type": "code",
   "execution_count": null,
   "metadata": {},
   "outputs": [],
   "source": []
  },
  {
   "cell_type": "code",
   "execution_count": null,
   "metadata": {},
   "outputs": [],
   "source": []
  },
  {
   "cell_type": "code",
   "execution_count": null,
   "metadata": {},
   "outputs": [],
   "source": []
  },
  {
   "cell_type": "code",
   "execution_count": null,
   "metadata": {},
   "outputs": [],
   "source": [
    "import pycbc\n",
    "\n"
   ]
  },
  {
   "cell_type": "code",
   "execution_count": null,
   "metadata": {},
   "outputs": [],
   "source": []
  },
  {
   "cell_type": "code",
   "execution_count": null,
   "metadata": {},
   "outputs": [],
   "source": []
  },
  {
   "cell_type": "code",
   "execution_count": null,
   "metadata": {},
   "outputs": [],
   "source": []
  },
  {
   "cell_type": "code",
   "execution_count": null,
   "metadata": {},
   "outputs": [],
   "source": []
  }
 ],
 "metadata": {
  "kernelspec": {
   "display_name": "Python 2",
   "language": "python",
   "name": "python2"
  },
  "language_info": {
   "codemirror_mode": {
    "name": "ipython",
    "version": 2
   },
   "file_extension": ".py",
   "mimetype": "text/x-python",
   "name": "python",
   "nbconvert_exporter": "python",
   "pygments_lexer": "ipython2",
   "version": "2.7.16"
  }
 },
 "nbformat": 4,
 "nbformat_minor": 2
}
