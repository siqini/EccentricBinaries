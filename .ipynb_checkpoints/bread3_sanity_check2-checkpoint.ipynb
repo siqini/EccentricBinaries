{
 "cells": [
  {
   "cell_type": "code",
   "execution_count": null,
   "metadata": {},
   "outputs": [],
   "source": [
    "%matplotlib inline\n",
    "from pycbc.waveform import get_td_waveform\n",
    "from pycbc.waveform import get_fd_waveform\n",
    "from pycbc.filter import match, overlap\n",
    "import pylab\n",
    "import matplotlib.pyplot as plt\n",
    "import numpy as np\n",
    "from datetime import datetime\n",
    "import pycbc\n",
    "import pycbc.psd\n",
    "import h5py\n",
    "import sys\n",
    "\n",
    "start = datetime.now()\n",
    "print (\"Start: %s\" % start )\n",
    "\n",
    "def GetMatch (template0,template1, psd_file = \"H1L1-O1_C02_HARM_MEAN_PSD-1126051217-11203200.txt\", f_low=30.):\n",
    "    \n",
    "\n",
    "template0 = get_fd_waveform(approximant=\"TaylorF2\",\n",
    "                           mass1=1.59,\n",
    "                           mass2=1.59,\n",
    "                           f_lower=30,\n",
    "                           delta_f=1.0/4)\n",
    "templa\n",
    "#resize two templates\n",
    "tlen = max(len(template0),len(template1))\n",
    "template1.resize(tlen)\n",
    "template0=template0.copy()\n",
    "template0.resize(tlen)\n",
    "    \n",
    "#grab and use the psd file\n",
    "df = 1.0/template1.duration\n",
    "flen = tlen/2 +1\n",
    "my_psd = pycbc.psd.read.from_txt(filename = psd_file,\n",
    "                                    length = flen,\n",
    "                                    delta_f = df,\n",
    "                                    low_freq_cutoff = f_low,\n",
    "                                    is_asd_file = False)\n",
    "\n",
    "#calculate match\n",
    "m,i = match(template0,template1,psd=my_psd,low_frequency_cutoff=f_low)\n",
    "print (\"match: %s\" % m)"
   ]
  }
 ],
 "metadata": {
  "kernelspec": {
   "display_name": "Python 2",
   "language": "python",
   "name": "python2"
  },
  "language_info": {
   "codemirror_mode": {
    "name": "ipython",
    "version": 2
   },
   "file_extension": ".py",
   "mimetype": "text/x-python",
   "name": "python",
   "nbconvert_exporter": "python",
   "pygments_lexer": "ipython2",
   "version": "2.7.16"
  }
 },
 "nbformat": 4,
 "nbformat_minor": 2
}
