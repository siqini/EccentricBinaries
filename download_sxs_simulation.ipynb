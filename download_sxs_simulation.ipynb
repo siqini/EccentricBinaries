{
 "cells": [
  {
   "cell_type": "code",
   "execution_count": 2,
   "metadata": {},
   "outputs": [
    {
     "name": "stdout",
     "output_type": "stream",
     "text": [
      "/anaconda3/bin/python\n"
     ]
    }
   ],
   "source": [
    "!which python"
   ]
  },
  {
   "cell_type": "code",
   "execution_count": 3,
   "metadata": {},
   "outputs": [],
   "source": [
    "# For downloading data\n",
    "import sxs\n",
    "from sxs import zenodo as zen\n",
    "\n",
    "# For interacting with the data\n",
    "import h5py\n",
    "import numpy as np\n",
    "from matplotlib import pyplot as plt\n",
    "import json\n"
   ]
  },
  {
   "cell_type": "code",
   "execution_count": 5,
   "metadata": {},
   "outputs": [
    {
     "name": "stdout",
     "output_type": "stream",
     "text": [
      "['SXS:BBH:0001' 'SXS:BBH:0044' 'SXS:BBH:0027' 'SXS:BBH:0017'\n",
      " 'SXS:BBH:0012']\n"
     ]
    }
   ],
   "source": [
    "target_ids = np.loadtxt(fname = 'target_simulations.txt', dtype=str, delimiter=\" \")\n",
    "print (target_ids)"
   ]
  },
  {
   "cell_type": "code",
   "execution_count": 6,
   "metadata": {},
   "outputs": [
    {
     "name": "stderr",
     "output_type": "stream",
     "text": [
      "/anaconda3/lib/python3.7/site-packages/tqdm/autonotebook/__init__.py:14: TqdmExperimentalWarning: Using `tqdm.autonotebook.tqdm` in notebook mode. Use `tqdm.tqdm` instead to force console mode (e.g. in jupyter console)\n",
      "  \" (e.g. in jupyter console)\", TqdmExperimentalWarning)\n"
     ]
    },
    {
     "name": "stdout",
     "output_type": "stream",
     "text": [
      "Retrieving all open-access records belonging to the \"sxs\" community on Zenodo.\n",
      "Retrieved 2028 records in total, of which 5 have matching SXS IDs.\n"
     ]
    },
    {
     "data": {
      "application/vnd.jupyter.widget-view+json": {
       "model_id": "8027ce8368754fb999cf915526df1f5a",
       "version_major": 2,
       "version_minor": 0
      },
      "text/plain": [
       "HBox(children=(IntProgress(value=0, max=5), HTML(value='')))"
      ]
     },
     "metadata": {},
     "output_type": "display_data"
    },
    {
     "name": "stdout",
     "output_type": "stream",
     "text": [
      "\n",
      "Working on \"SXS:BBH:0012\"\n",
      "\tDownloading \"SXS:BBH:0012/Lev5/rhOverM_Asymptotic_GeometricUnits_CoM.h5\" to \"SXS_BBH_0012/rhOverM_Asymptotic_GeometricUnits_CoM.h5\"\n",
      "\n",
      "Working on \"SXS:BBH:0044\"\n",
      "\tDownloading \"SXS:BBH:0044/Lev4/rhOverM_Asymptotic_GeometricUnits_CoM.h5\" to \"SXS_BBH_0044/rhOverM_Asymptotic_GeometricUnits_CoM.h5\"\n",
      "\n",
      "Working on \"SXS:BBH:0027\"\n",
      "\tDownloading \"SXS:BBH:0027/Lev6/rhOverM_Asymptotic_GeometricUnits_CoM.h5\" to \"SXS_BBH_0027/rhOverM_Asymptotic_GeometricUnits_CoM.h5\"\n",
      "\n",
      "Working on \"SXS:BBH:0001\"\n",
      "\tDownloading \"SXS:BBH:0001/Lev5/rhOverM_Asymptotic_GeometricUnits_CoM.h5\" to \"SXS_BBH_0001/rhOverM_Asymptotic_GeometricUnits_CoM.h5\"\n",
      "\n",
      "Working on \"SXS:BBH:0017\"\n",
      "\tDownloading \"SXS:BBH:0017/Lev5/rhOverM_Asymptotic_GeometricUnits_CoM.h5\" to \"SXS_BBH_0017/rhOverM_Asymptotic_GeometricUnits_CoM.h5\"\n",
      "\n"
     ]
    }
   ],
   "source": [
    "zen.download.matching(\"rhOverM_Asymptotic_GeometricUnits_CoM.h5\", sxs_ids = target_ids, dry_run = False, highest_lev_only = True)\n",
    "    "
   ]
  },
  {
   "cell_type": "code",
   "execution_count": null,
   "metadata": {},
   "outputs": [],
   "source": [
    "zen.download.matching(\"common-metadata.txt\", \"metadata.txt\", \\\n",
    "                      \"rhOverM_Asymptotic_GeometricUnits_CoM.h5\", \\\n",
    "                      \"Horizons.h5\", \\\n",
    "                      sxs_ids = ['SXS:BBH:2085'], \\\n",
    "                      dry_run = False, \\\n",
    "                      highest_lev_only = True)"
   ]
  },
  {
   "cell_type": "code",
   "execution_count": null,
   "metadata": {},
   "outputs": [],
   "source": [
    "zen.download.matching(\"common-metadata.txt\", \"metadata.txt\", \\\n",
    "                      \"rhOverM_Asymptotic_GeometricUnits_CoM.h5\", \\\n",
    "                      \"Horizons.h5\", \\\n",
    "                      sxs_ids = ['SXS:BBH:2106'], \\\n",
    "                      dry_run = False, \\\n",
    "                      highest_lev_only = False)"
   ]
  },
  {
   "cell_type": "code",
   "execution_count": null,
   "metadata": {},
   "outputs": [],
   "source": []
  },
  {
   "cell_type": "code",
   "execution_count": null,
   "metadata": {},
   "outputs": [],
   "source": []
  },
  {
   "cell_type": "code",
   "execution_count": null,
   "metadata": {},
   "outputs": [],
   "source": []
  }
 ],
 "metadata": {
  "kernelspec": {
   "display_name": "Python 3",
   "language": "python",
   "name": "python3"
  },
  "language_info": {
   "codemirror_mode": {
    "name": "ipython",
    "version": 3
   },
   "file_extension": ".py",
   "mimetype": "text/x-python",
   "name": "python",
   "nbconvert_exporter": "python",
   "pygments_lexer": "ipython3",
   "version": "3.7.3"
  }
 },
 "nbformat": 4,
 "nbformat_minor": 4
}
