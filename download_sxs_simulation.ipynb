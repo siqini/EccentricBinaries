{
 "cells": [
  {
   "cell_type": "code",
   "execution_count": 2,
   "metadata": {},
   "outputs": [
    {
     "name": "stdout",
     "output_type": "stream",
     "text": [
      "/anaconda3/bin/python\n"
     ]
    }
   ],
   "source": [
    "!which python"
   ]
  },
  {
   "cell_type": "code",
   "execution_count": 1,
   "metadata": {},
   "outputs": [],
   "source": [
    "# For downloading data\n",
    "import sxs\n",
    "from sxs import zenodo as zen\n",
    "\n",
    "# For interacting with the data\n",
    "import h5py\n",
    "import numpy as np\n",
    "from matplotlib import pyplot as plt\n",
    "import json\n"
   ]
  },
  {
   "cell_type": "code",
   "execution_count": 5,
   "metadata": {},
   "outputs": [
    {
     "name": "stderr",
     "output_type": "stream",
     "text": [
      "/anaconda3/lib/python3.7/site-packages/tqdm/autonotebook/__init__.py:14: TqdmExperimentalWarning: Using `tqdm.autonotebook.tqdm` in notebook mode. Use `tqdm.tqdm` instead to force console mode (e.g. in jupyter console)\n",
      "  \" (e.g. in jupyter console)\", TqdmExperimentalWarning)\n"
     ]
    },
    {
     "name": "stdout",
     "output_type": "stream",
     "text": [
      "Retrieving all open-access records belonging to the \"sxs\" community on Zenodo.\n",
      "Retrieved 2028 records in total, of which 1 have matching SXS IDs.\n"
     ]
    },
    {
     "data": {
      "application/vnd.jupyter.widget-view+json": {
       "model_id": "fd0c21773c5146b19ca6002345355073",
       "version_major": 2,
       "version_minor": 0
      },
      "text/plain": [
       "HBox(children=(IntProgress(value=0, max=1), HTML(value='')))"
      ]
     },
     "metadata": {},
     "output_type": "display_data"
    },
    {
     "name": "stdout",
     "output_type": "stream",
     "text": [
      "\n",
      "Working on \"SXS:BBH:0002\"\n",
      "\tDownloading \"SXS:BBH:0002/common-metadata.txt\" to \"SXS_BBH_0002/common-metadata.txt\"\n",
      "\tDownloading \"SXS:BBH:0002/Lev4/Horizons.h5\" to \"SXS_BBH_0002/Lev4/Horizons.h5\"\n",
      "\tDownloading \"SXS:BBH:0002/Lev4/metadata.txt\" to \"SXS_BBH_0002/Lev4/metadata.txt\"\n",
      "\tDownloading \"SXS:BBH:0002/Lev4/rhOverM_Asymptotic_GeometricUnits_CoM.h5\" to \"SXS_BBH_0002/Lev4/rhOverM_Asymptotic_GeometricUnits_CoM.h5\"\n",
      "\tDownloading \"SXS:BBH:0002/Lev5/Horizons.h5\" to \"SXS_BBH_0002/Lev5/Horizons.h5\"\n",
      "\tDownloading \"SXS:BBH:0002/Lev5/metadata.txt\" to \"SXS_BBH_0002/Lev5/metadata.txt\"\n",
      "\tDownloading \"SXS:BBH:0002/Lev5/rhOverM_Asymptotic_GeometricUnits_CoM.h5\" to \"SXS_BBH_0002/Lev5/rhOverM_Asymptotic_GeometricUnits_CoM.h5\"\n",
      "\tDownloading \"SXS:BBH:0002/Lev6/Horizons.h5\" to \"SXS_BBH_0002/Lev6/Horizons.h5\"\n",
      "\tDownloading \"SXS:BBH:0002/Lev6/metadata.txt\" to \"SXS_BBH_0002/Lev6/metadata.txt\"\n",
      "\tDownloading \"SXS:BBH:0002/Lev6/rhOverM_Asymptotic_GeometricUnits_CoM.h5\" to \"SXS_BBH_0002/Lev6/rhOverM_Asymptotic_GeometricUnits_CoM.h5\"\n",
      "\n"
     ]
    }
   ],
   "source": [
    "zen.download.matching(\"common-metadata.txt\", \"metadata.txt\", \\\n",
    "                      \"rhOverM_Asymptotic_GeometricUnits_CoM.h5\", \\\n",
    "                      \"Horizons.h5\", \\\n",
    "                      sxs_ids = ['SXS:BBH:0002'], \\\n",
    "                      dry_run = False, \\\n",
    "                      highest_lev_only = False)"
   ]
  },
  {
   "cell_type": "code",
   "execution_count": 2,
   "metadata": {},
   "outputs": [
    {
     "name": "stderr",
     "output_type": "stream",
     "text": [
      "/anaconda3/lib/python3.7/site-packages/tqdm/autonotebook/__init__.py:14: TqdmExperimentalWarning: Using `tqdm.autonotebook.tqdm` in notebook mode. Use `tqdm.tqdm` instead to force console mode (e.g. in jupyter console)\n",
      "  \" (e.g. in jupyter console)\", TqdmExperimentalWarning)\n"
     ]
    },
    {
     "name": "stdout",
     "output_type": "stream",
     "text": [
      "Retrieving all open-access records belonging to the \"sxs\" community on Zenodo.\n",
      "Retrieved 2028 records in total, of which 1 have matching SXS IDs.\n"
     ]
    },
    {
     "data": {
      "application/vnd.jupyter.widget-view+json": {
       "model_id": "44a585c8d551475593f651f100af7474",
       "version_major": 2,
       "version_minor": 0
      },
      "text/plain": [
       "HBox(children=(IntProgress(value=0, max=1), HTML(value='')))"
      ]
     },
     "metadata": {},
     "output_type": "display_data"
    },
    {
     "name": "stdout",
     "output_type": "stream",
     "text": [
      "\n",
      "Working on \"SXS:BBH:2106\"\n",
      "\tDownloading \"common-metadata.txt\" to \"SXS_BBH_2106/common-metadata.txt\"\n",
      "\tDownloading \"Lev1/Horizons.h5\" to \"SXS_BBH_2106/Lev1/Horizons.h5\"\n",
      "\tDownloading \"Lev1/metadata.txt\" to \"SXS_BBH_2106/Lev1/metadata.txt\"\n",
      "\tDownloading \"Lev1/rhOverM_Asymptotic_GeometricUnits_CoM.h5\" to \"SXS_BBH_2106/Lev1/rhOverM_Asymptotic_GeometricUnits_CoM.h5\"\n",
      "\tDownloading \"Lev2/Horizons.h5\" to \"SXS_BBH_2106/Lev2/Horizons.h5\"\n",
      "\tDownloading \"Lev2/metadata.txt\" to \"SXS_BBH_2106/Lev2/metadata.txt\"\n",
      "\tDownloading \"Lev2/rhOverM_Asymptotic_GeometricUnits_CoM.h5\" to \"SXS_BBH_2106/Lev2/rhOverM_Asymptotic_GeometricUnits_CoM.h5\"\n",
      "\tDownloading \"Lev3/Horizons.h5\" to \"SXS_BBH_2106/Lev3/Horizons.h5\"\n",
      "\tDownloading \"Lev3/metadata.txt\" to \"SXS_BBH_2106/Lev3/metadata.txt\"\n",
      "\tDownloading \"Lev3/rhOverM_Asymptotic_GeometricUnits_CoM.h5\" to \"SXS_BBH_2106/Lev3/rhOverM_Asymptotic_GeometricUnits_CoM.h5\"\n",
      "\tDownloading \"Lev4/Horizons.h5\" to \"SXS_BBH_2106/Lev4/Horizons.h5\"\n",
      "\tDownloading \"Lev4/metadata.txt\" to \"SXS_BBH_2106/Lev4/metadata.txt\"\n",
      "\tDownloading \"Lev4/rhOverM_Asymptotic_GeometricUnits_CoM.h5\" to \"SXS_BBH_2106/Lev4/rhOverM_Asymptotic_GeometricUnits_CoM.h5\"\n",
      "\n"
     ]
    }
   ],
   "source": [
    "zen.download.matching(\"common-metadata.txt\", \"metadata.txt\", \\\n",
    "                      \"rhOverM_Asymptotic_GeometricUnits_CoM.h5\", \\\n",
    "                      \"Horizons.h5\", \\\n",
    "                      sxs_ids = ['SXS:BBH:2106'], \\\n",
    "                      dry_run = False, \\\n",
    "                      highest_lev_only = False)"
   ]
  },
  {
   "cell_type": "code",
   "execution_count": null,
   "metadata": {},
   "outputs": [],
   "source": []
  },
  {
   "cell_type": "code",
   "execution_count": null,
   "metadata": {},
   "outputs": [],
   "source": []
  },
  {
   "cell_type": "code",
   "execution_count": null,
   "metadata": {},
   "outputs": [],
   "source": []
  },
  {
   "cell_type": "code",
   "execution_count": null,
   "metadata": {},
   "outputs": [],
   "source": []
  }
 ],
 "metadata": {
  "kernelspec": {
   "display_name": "Python 3",
   "language": "python",
   "name": "python3"
  },
  "language_info": {
   "codemirror_mode": {
    "name": "ipython",
    "version": 3
   },
   "file_extension": ".py",
   "mimetype": "text/x-python",
   "name": "python",
   "nbconvert_exporter": "python",
   "pygments_lexer": "ipython3",
   "version": "3.7.0"
  }
 },
 "nbformat": 4,
 "nbformat_minor": 4
}
