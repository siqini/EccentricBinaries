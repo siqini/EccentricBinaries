{
 "cells": [
  {
   "cell_type": "code",
   "execution_count": 1,
   "metadata": {},
   "outputs": [
    {
     "name": "stderr",
     "output_type": "stream",
     "text": [
      "PyCBC.libutils: pkg-config call failed, setting NO_PKGCONFIG=1\n"
     ]
    }
   ],
   "source": [
    "from pycbc.waveform import get_td_waveform\n",
    "import h5py\n",
    "from pycbc.filter.matchedfilter import match \n",
    "import pycbc \n",
    "import pycbc.psd \n",
    "import numpy as np\n",
    "import pycbc.noise \n",
    "import pycbc.types \n",
    "import pycbc.filter \n",
    "import pycbc.waveform\n",
    "import pycbc.vetoes\n",
    "import requests\n",
    "import json\n",
    "import sys\n",
    "\n",
    "import rescaling\n",
    "import best_match"
   ]
  },
  {
   "cell_type": "code",
   "execution_count": 2,
   "metadata": {},
   "outputs": [],
   "source": [
    "sim_path = 'SXS_BBH_0002/Lev6/rhOverM_Asymptotic_GeometricUnits_CoM.h5'\n",
    "total_mass = 80."
   ]
  },
  {
   "cell_type": "code",
   "execution_count": 3,
   "metadata": {},
   "outputs": [],
   "source": [
    "sp, sc = rescaling.rescale(sim_path, total_mass)"
   ]
  },
  {
   "cell_type": "code",
   "execution_count": 4,
   "metadata": {},
   "outputs": [],
   "source": [
    "tbank = 'bank0729_atlas1_new6.hdf'\n",
    "f_bank = h5py.File(tbank, 'r')\n",
    "bank_mass1 = f_bank['mass1'][:]\n",
    "bank_mass2 = f_bank['mass2'][:]\n",
    "bank_ecc = f_bank['eccentricity'][:]\n",
    "bank_lan = f_bank['long_asc_nodes'][:]\n",
    "bank_inc = f_bank['inclination'][:]\n",
    "bank_apx = f_bank['approximant'][:]\n",
    "f_bank.close()"
   ]
  },
  {
   "cell_type": "code",
   "execution_count": 5,
   "metadata": {},
   "outputs": [
    {
     "name": "stdout",
     "output_type": "stream",
     "text": [
      "Component mass1 = 39.9999997989\n",
      "Component mass2 = 40.0000002011\n",
      "Eccentricity = 0.0002569\n"
     ]
    }
   ],
   "source": [
    "request = requests.get(\"https://data.black-holes.org/catalog.json\", headers={'accept': 'application/citeproc+json'})\n",
    "sxs_full_json = request.json()\n",
    "sxs_catalog_json = sxs_full_json['simulations']\n",
    "mass_ratio = sxs_catalog_json['SXS:BBH:0001']['reference_mass_ratio']\n",
    "eccentricity = sxs_catalog_json['SXS:BBH:0001']['reference_eccentricity']\n",
    "sim_m2 = total_mass/(mass_ratio+1.)\n",
    "sim_m1 = total_mass - sim_m2\n",
    "print ('Component mass1 = %s' % sim_m1)\n",
    "print ('Component mass2 = %s' % sim_m2)\n",
    "print ('Eccentricity = %s' % eccentricity)\n",
    "f_low = 30."
   ]
  },
  {
   "cell_type": "code",
   "execution_count": null,
   "metadata": {},
   "outputs": [],
   "source": [
    "psd_file ='H1L1-O1_C02_HARM_MEAN_PSD-1126051217-11203200.txt'\n",
    "ff, best_match_m1, best_match_m2, best_match_ecc, best_match_lan, best_match_inc = best_match.GetBestMatch(comp_mass1=sim_m1, comp_mass2=sim_m2, waveform0=sp, tp_apx=bank_apx, tp_m1=bank_mass1, tp_m2=bank_mass2, tp_ecc=bank_ecc, tp_lan=bank_lan, tp_inc=bank_inc, radius = 0.1, f_low = f_low, psd_file = psd_file)\n",
    "print ('Fitting factor = %s' % ff)\n",
    "print ('Best match mass1 = %s' % best_match_m1)\n",
    "print ('Best match mass2 = %s' % best_match_m2)\n"
   ]
  },
  {
   "cell_type": "code",
   "execution_count": 13,
   "metadata": {},
   "outputs": [],
   "source": [
    "flen0 = len(sp)//2 + 1\n",
    "delta_f0 = sp.delta_f\n",
    "psd1 = pycbc.psd.read.from_txt(filename = psd_file, length = flen0, delta_f = delta_f0, low_freq_cutoff = f_low, is_asd_file = False)\n"
   ]
  },
  {
   "cell_type": "code",
   "execution_count": 14,
   "metadata": {},
   "outputs": [
    {
     "name": "stdout",
     "output_type": "stream",
     "text": [
      "SNR of the rescaled signal: 10.000000000000018\n"
     ]
    }
   ],
   "source": [
    "snr = pycbc.filter.matched_filter(sp, sp, psd = psd1, low_frequency_cutoff = f_low)\n",
    "snr = snr[len(snr)//4 : len(snr)*3//4]\n",
    "peak = abs(snr).numpy().argmax()\n",
    "snrp = snr[peak]\n",
    "peak_time = snr.sample_times[peak]\n",
    "snrp_norm = abs(snrp)\n",
    "\n",
    "scalar = 10./snrp_norm \n",
    "rescaled_strains = np.array(sp)*scalar\n",
    "sp_rescaled = pycbc.types.timeseries.TimeSeries(initial_array = rescaled_strains, delta_t = sp.delta_t)\n",
    "\n",
    "snr_rescaled = pycbc.filter.matched_filter(sp_rescaled, sp_rescaled, psd = psd1, low_frequency_cutoff = f_low)\n",
    "snr_rescaled = snr_rescaled[len(snr_rescaled)//4 : len(snr_rescaled)*3//4]\n",
    "peak_rescaled = abs(snr_rescaled).numpy().argmax()\n",
    "snrp_rescaled = snr_rescaled[peak_rescaled]\n",
    "peak_time_rescaled = snr_rescaled.sample_times[peak_rescaled]\n",
    "snrp_norm_rescaled = abs(snrp_rescaled)\n",
    "\n",
    "print ('SNR of the rescaled signal: %s' % snrp_norm_rescaled)"
   ]
  },
  {
   "cell_type": "code",
   "execution_count": 16,
   "metadata": {},
   "outputs": [],
   "source": [
    "delta_t = sp_rescaled.delta_t \n",
    "duration = sp_rescaled.duration \n",
    "tsamples = int(duration/delta_t)\n",
    "noise = pycbc.noise.noise_from_psd(tsamples, delta_t, psd1, seed = 127)"
   ]
  },
  {
   "cell_type": "code",
   "execution_count": 18,
   "metadata": {},
   "outputs": [],
   "source": [
    "# generate the template filter \n",
    "hp, hc = get_td_waveform(approximant = 'EccentricTD', mass1 = best_match_m1, mass2 = best_match_m2, eccentricity = best_match_ecc, long_asc_nodes = best_match_lan, inclination = best_match_inc, f_lower = f_low, delta_t = delta_t)\n",
    "\n",
    "signal_plus_noise = sp_rescaled + noise \n",
    "delta_f = signal_plus_noise.delta_f \n",
    "\n",
    "tlen1 = max(len(hp), len(signal_plus_noise))\n",
    "hp.resize(tlen1)\n",
    "signal_plus_noise.resize(tlen1)\n",
    "flen = tlen1//2 + 1\n",
    "\n",
    "psd2 = pycbc.psd.read.from_txt(filename = psd_file, length = flen, delta_f = delta_f, low_freq_cutoff = f_low, is_asd_file = False)\n",
    "\n",
    "num_bins = 16 \n"
   ]
  },
  {
   "cell_type": "code",
   "execution_count": 19,
   "metadata": {},
   "outputs": [
    {
     "name": "stderr",
     "output_type": "stream",
     "text": [
      "/anaconda3/envs/ipykernel_py2/lib/python2.7/site-packages/pycbc/types/array.py:382: RuntimeWarning: divide by zero encountered in true_divide\n",
      "  self._data /= other\n"
     ]
    },
    {
     "name": "stdout",
     "output_type": "stream",
     "text": [
      "[29092.19375107 28953.61687985 28814.4131007  ... 29520.75497167\n",
      " 29373.20309663 29230.66787636]\n"
     ]
    }
   ],
   "source": [
    "chisq = pycbc.vetoes.power_chisq(hp, signal_plus_noise, num_bins, psd2,\n",
    "                                      low_frequency_cutoff=f_low)\n",
    "print (chisq)"
   ]
  },
  {
   "cell_type": "code",
   "execution_count": 21,
   "metadata": {},
   "outputs": [
    {
     "name": "stdout",
     "output_type": "stream",
     "text": [
      "0.5458730310525055\n"
     ]
    }
   ],
   "source": [
    "m= best_match.GetMatch(hp, signal_plus_noise, psd_file, f_low)\n",
    "print m"
   ]
  },
  {
   "cell_type": "code",
   "execution_count": 22,
   "metadata": {},
   "outputs": [
    {
     "data": {
      "image/png": "[encoded data removed]",
      "text/plain": [
       "<Figure size 432x288 with 1 Axes>"
      ]
     },
     "metadata": {
      "needs_background": "light"
     },
     "output_type": "display_data"
    }
   ],
   "source": [
    "%matplotlib inline\n",
    "import pylab\n",
    "pylab.plot(chisq.sample_times, chisq)\n",
    "pylab.show()"
   ]
  },
  {
   "cell_type": "code",
   "execution_count": null,
   "metadata": {},
   "outputs": [],
   "source": []
  }
 ],
 "metadata": {
  "kernelspec": {
   "display_name": "Python 2",
   "language": "python",
   "name": "python2"
  },
  "language_info": {
   "codemirror_mode": {
    "name": "ipython",
    "version": 2
   },
   "file_extension": ".py",
   "mimetype": "text/x-python",
   "name": "python",
   "nbconvert_exporter": "python",
   "pygments_lexer": "ipython2",
   "version": "2.7.16"
  }
 },
 "nbformat": 4,
 "nbformat_minor": 2
}
