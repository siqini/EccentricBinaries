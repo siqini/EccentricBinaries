{
 "cells": [
  {
   "cell_type": "code",
   "execution_count": 1,
   "metadata": {},
   "outputs": [
    {
     "name": "stderr",
     "output_type": "stream",
     "text": [
      "PyCBC.libutils: pkg-config call failed, setting NO_PKGCONFIG=1\n"
     ]
    }
   ],
   "source": [
    "import rescaling\n",
    "import numpy as np\n",
    "import h5py\n",
    "import pycbc.noise\n",
    "import pycbc.psd\n",
    "import pycbc.filter\n",
    "import pycbc.waveform"
   ]
  },
  {
   "cell_type": "code",
   "execution_count": 2,
   "metadata": {},
   "outputs": [],
   "source": [
    "psd_file ='H1L1-O1_C02_HARM_MEAN_PSD-1126051217-11203200.txt'\n",
    "delta_f = 1.0/16\n",
    "my_psd = pycbc.psd.read.from_txt(filename = psd_file,\n",
    "                                    length = int(2048/delta_f)+1,\n",
    "                                    delta_f = delta_f,\n",
    "                                    low_freq_cutoff = 30.,\n",
    "                                    is_asd_file = False)\n",
    "\n"
   ]
  },
  {
   "cell_type": "code",
   "execution_count": 3,
   "metadata": {},
   "outputs": [],
   "source": [
    "'''\n",
    "delta_t = 1.0 / 4096\n",
    "tsamples = int(16 / delta_t)\n",
    "strain = pycbc.noise.noise_from_psd(tsamples, delta_t, my_psd, seed=127)\n",
    "stilde = strain.to_frequencyseries()\n",
    "'''"
   ]
  },
  {
   "cell_type": "code",
   "execution_count": 3,
   "metadata": {},
   "outputs": [],
   "source": [
    "sim_path = 'targets/SXS_BBH_0001/rhOverM_Asymptotic_GeometricUnits_CoM.h5'"
   ]
  },
  {
   "cell_type": "code",
   "execution_count": 4,
   "metadata": {},
   "outputs": [],
   "source": [
    "tot_m = 20."
   ]
  },
  {
   "cell_type": "code",
   "execution_count": 5,
   "metadata": {},
   "outputs": [],
   "source": [
    "hp, hc = rescaling.rescale(sim_path, tot_m)"
   ]
  },
  {
   "cell_type": "code",
   "execution_count": 6,
   "metadata": {},
   "outputs": [],
   "source": [
    "'''\n",
    "hptilde = hp.to_frequencyseries()\n",
    "hptilde.resize(len(stilde))\n",
    "'''\n",
    "hp.resize(int(2048/delta_f)+1)"
   ]
  },
  {
   "cell_type": "code",
   "execution_count": 7,
   "metadata": {},
   "outputs": [
    {
     "ename": "TypeError",
     "evalue": "PSD delta_f does not match data",
     "output_type": "error",
     "traceback": [
      "\u001b[0;31m---------------------------------------------------------------------------\u001b[0m",
      "\u001b[0;31mTypeError\u001b[0m                                 Traceback (most recent call last)",
      "\u001b[0;32m<ipython-input-7-ebf830b8246f>\u001b[0m in \u001b[0;36m<module>\u001b[0;34m()\u001b[0m\n\u001b[1;32m      1\u001b[0m \u001b[0;34m\u001b[0m\u001b[0m\n\u001b[1;32m      2\u001b[0m snr = pycbc.filter.matched_filter(hp, hp, psd=my_psd,\n\u001b[0;32m----> 3\u001b[0;31m                                       low_frequency_cutoff=30.)\n\u001b[0m",
      "\u001b[0;32m/anaconda3/envs/ipykernel_py2/lib/python2.7/site-packages/pycbc/filter/matchedfilter.pyc\u001b[0m in \u001b[0;36mmatched_filter\u001b[0;34m(template, data, psd, low_frequency_cutoff, high_frequency_cutoff, sigmasq)\u001b[0m\n\u001b[1;32m   1312\u001b[0m     snr, _, norm = matched_filter_core(template, data, psd=psd,\n\u001b[1;32m   1313\u001b[0m             \u001b[0mlow_frequency_cutoff\u001b[0m\u001b[0;34m=\u001b[0m\u001b[0mlow_frequency_cutoff\u001b[0m\u001b[0;34m,\u001b[0m\u001b[0;34m\u001b[0m\u001b[0m\n\u001b[0;32m-> 1314\u001b[0;31m             high_frequency_cutoff=high_frequency_cutoff, h_norm=sigmasq)\n\u001b[0m\u001b[1;32m   1315\u001b[0m     \u001b[0;32mreturn\u001b[0m \u001b[0msnr\u001b[0m \u001b[0;34m*\u001b[0m \u001b[0mnorm\u001b[0m\u001b[0;34m\u001b[0m\u001b[0m\n\u001b[1;32m   1316\u001b[0m \u001b[0;34m\u001b[0m\u001b[0m\n",
      "\u001b[0;32m/anaconda3/envs/ipykernel_py2/lib/python2.7/site-packages/pycbc/filter/matchedfilter.pyc\u001b[0m in \u001b[0;36mmatched_filter_core\u001b[0;34m(template, data, psd, low_frequency_cutoff, high_frequency_cutoff, h_norm, out, corr_out)\u001b[0m\n\u001b[1;32m   1238\u001b[0m                 \u001b[0mqtilde\u001b[0m\u001b[0;34m[\u001b[0m\u001b[0mkmin\u001b[0m\u001b[0;34m:\u001b[0m\u001b[0mkmax\u001b[0m\u001b[0;34m]\u001b[0m \u001b[0;34m/=\u001b[0m \u001b[0mpsd\u001b[0m\u001b[0;34m[\u001b[0m\u001b[0mkmin\u001b[0m\u001b[0;34m:\u001b[0m\u001b[0mkmax\u001b[0m\u001b[0;34m]\u001b[0m\u001b[0;34m\u001b[0m\u001b[0m\n\u001b[1;32m   1239\u001b[0m             \u001b[0;32melse\u001b[0m\u001b[0;34m:\u001b[0m\u001b[0;34m\u001b[0m\u001b[0m\n\u001b[0;32m-> 1240\u001b[0;31m                 \u001b[0;32mraise\u001b[0m \u001b[0mTypeError\u001b[0m\u001b[0;34m(\u001b[0m\u001b[0;34m\"PSD delta_f does not match data\"\u001b[0m\u001b[0;34m)\u001b[0m\u001b[0;34m\u001b[0m\u001b[0m\n\u001b[0m\u001b[1;32m   1241\u001b[0m         \u001b[0;32melse\u001b[0m\u001b[0;34m:\u001b[0m\u001b[0;34m\u001b[0m\u001b[0m\n\u001b[1;32m   1242\u001b[0m             \u001b[0;32mraise\u001b[0m \u001b[0mTypeError\u001b[0m\u001b[0;34m(\u001b[0m\u001b[0;34m\"PSD must be a FrequencySeries\"\u001b[0m\u001b[0;34m)\u001b[0m\u001b[0;34m\u001b[0m\u001b[0m\n",
      "\u001b[0;31mTypeError\u001b[0m: PSD delta_f does not match data"
     ]
    }
   ],
   "source": [
    "\n",
    "snr = pycbc.filter.matched_filter(hp, hp, psd=my_psd,\n",
    "                                      low_frequency_cutoff=30.)\n"
   ]
  },
  {
   "cell_type": "code",
   "execution_count": 9,
   "metadata": {},
   "outputs": [
    {
     "name": "stdout",
     "output_type": "stream",
     "text": [
      "[2.6951299 +0.60830756j 2.59488543+1.27392008j 2.25118239+1.84497756j ...\n",
      " 1.68944627-0.31131825j 2.03922171-0.34799588j 2.48427367-0.01496812j]\n"
     ]
    }
   ],
   "source": [
    "print (snr)"
   ]
  },
  {
   "cell_type": "code",
   "execution_count": 11,
   "metadata": {},
   "outputs": [
    {
     "data": {
      "text/plain": [
       "65536"
      ]
     },
     "execution_count": 11,
     "metadata": {},
     "output_type": "execute_result"
    }
   ],
   "source": [
    "len(snr)"
   ]
  },
  {
   "cell_type": "code",
   "execution_count": 12,
   "metadata": {},
   "outputs": [
    {
     "data": {
      "text/plain": [
       "65536"
      ]
     },
     "execution_count": 12,
     "metadata": {},
     "output_type": "execute_result"
    }
   ],
   "source": [
    "len(hp)"
   ]
  },
  {
   "cell_type": "code",
   "execution_count": null,
   "metadata": {},
   "outputs": [],
   "source": []
  },
  {
   "cell_type": "code",
   "execution_count": null,
   "metadata": {},
   "outputs": [],
   "source": []
  },
  {
   "cell_type": "code",
   "execution_count": null,
   "metadata": {},
   "outputs": [],
   "source": []
  }
 ],
 "metadata": {
  "kernelspec": {
   "display_name": "Python 2",
   "language": "python",
   "name": "python2"
  },
  "language_info": {
   "codemirror_mode": {
    "name": "ipython",
    "version": 2
   },
   "file_extension": ".py",
   "mimetype": "text/x-python",
   "name": "python",
   "nbconvert_exporter": "python",
   "pygments_lexer": "ipython2",
   "version": "2.7.16"
  }
 },
 "nbformat": 4,
 "nbformat_minor": 2
}
